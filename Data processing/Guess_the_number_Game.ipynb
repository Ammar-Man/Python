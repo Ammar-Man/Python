{
 "cells": [
  {
   "cell_type": "code",
   "execution_count": 43,
   "metadata": {},
   "outputs": [],
   "source": [
    "# import plase\n",
    "import random\n",
    "import array"
   ]
  },
  {
   "cell_type": "code",
   "execution_count": 145,
   "metadata": {},
   "outputs": [],
   "source": [
    "global nameArray\n",
    "nameArray = []\n",
    "def gussesArrayList(num):\n",
    "        if num == \"loop\":\n",
    "            return nameArray\n",
    "        if num == \"len\":\n",
    "            return len(nameArray)\n",
    "        if num == \"clear\":\n",
    "            nameArray.clear()\n",
    "        else:\n",
    "            nameArray.append(num)"
   ]
  },
  {
   "cell_type": "code",
   "execution_count": 146,
   "metadata": {},
   "outputs": [
    {
     "data": {
      "text/plain": [
       "[]"
      ]
     },
     "execution_count": 146,
     "metadata": {},
     "output_type": "execute_result"
    }
   ],
   "source": [
    "# gussesAmountNumber(5)\n",
    "\n",
    "# gussesAmountNumber(\"0\")\n",
    "gussesArrayList(\"loop\")"
   ]
  },
  {
   "cell_type": "code",
   "execution_count": 191,
   "metadata": {},
   "outputs": [],
   "source": [
    "def randomNumber():\n",
    "    random_number = random.randint(1, 10)\n",
    "    return int(random_number)\n",
    "\n",
    "def playerChoice():\n",
    "    playerinput =  input(\"Guess which number you are thinking of ?\")\n",
    "    inputType = str(playerinput).isnumeric()\n",
    "    while True:\n",
    "        inputType = str(playerinput).isnumeric()\n",
    "        if playerinput == \"exit\":\n",
    "            return playerinput\n",
    "        if inputType: \n",
    "            return int(playerinput)\n",
    "        else:\n",
    "            print(\"correct input can be exit or number!\")\n",
    "            playerinput =  input(\"correct input can be exit or number!\")"
   ]
  },
  {
   "cell_type": "code",
   "execution_count": 200,
   "metadata": {},
   "outputs": [],
   "source": [
    "def startGame():\n",
    "    rn =  randomNumber()\n",
    "    def randomVsChoice(rnInput,pnInput):\n",
    "        if pnInput == rnInput:\n",
    "            print(\"You win the correct guessing number was \"+ str(rnInput))\n",
    "            print(\"Array of your input choices: \"+ str(gussesArrayList(\"loop\")))\n",
    "            print(\"Guss Amount Number was: \"+ str(gussesArrayList(\"len\")) )\n",
    "            gussesArrayList(\"clear\")\n",
    "            print(\"New game started to end type exit\")\n",
    "            # break\n",
    "            return True\n",
    "        if pnInput > rnInput:\n",
    "            print(\"Too high\")\n",
    "            return False\n",
    "        if pnInput < rnInput:\n",
    "            print(\"Too low\")\n",
    "            return False\n",
    "    \n",
    "    while True:\n",
    "        print(rn)\n",
    "        pn =  playerChoice()\n",
    "        gussesArrayList(pn)\n",
    "        if pn == \"exit\":\n",
    "            print(\"Last input was :\"+ pn)\n",
    "            print(\"Array of your input choices: \"+ str(gussesArrayList(\"loop\")))\n",
    "            print(\"Guss Amount Number was: \"+ str(gussesArrayList(\"len\")) )\n",
    "            gussesArrayList(\"clear\")\n",
    "            \n",
    "            break \n",
    "\n",
    "        if randomVsChoice(rn,pn):\n",
    "            rn =  randomNumber() \n",
    "\n",
    "        # else:\n",
    "        #     print(\"New game started to end type exit\")\n",
    "        # rn =  randomNumber() \n",
    "        # print(\"New game started to end type exit\") \n",
    "      \n",
    "   \n",
    "        \n",
    "        \n",
    "        "
   ]
  },
  {
   "cell_type": "code",
   "execution_count": 201,
   "metadata": {},
   "outputs": [
    {
     "name": "stdout",
     "output_type": "stream",
     "text": [
      "9\n",
      "Too low\n",
      "9\n",
      "Too low\n",
      "9\n",
      "Too low\n",
      "9\n",
      "Too low\n",
      "9\n",
      "You win the correct guessing number was 9\n",
      "Array of your input choices: [1, 1, 1, 1, 9]\n",
      "Guss Amount Number was: 5\n",
      "8\n",
      "You win the correct guessing number was 8\n",
      "Array of your input choices: [8]\n",
      "Guss Amount Number was: 1\n",
      "2\n",
      "Too low\n",
      "2\n",
      "Too low\n",
      "2\n",
      "Too low\n",
      "2\n",
      "Last input was :exit\n",
      "Array of your input choices: [1, 1, 1, 'exit']\n",
      "Guss Amount Number was: 4\n",
      "New game started to end type exit\n"
     ]
    }
   ],
   "source": [
    "startGame()\n"
   ]
  },
  {
   "cell_type": "code",
   "execution_count": 157,
   "metadata": {},
   "outputs": [
    {
     "name": "stdout",
     "output_type": "stream",
     "text": [
      "True\n"
     ]
    }
   ],
   "source": [
    "pin = \"654\"\n",
    "print(pin.isnumeric())"
   ]
  }
 ],
 "metadata": {
  "kernelspec": {
   "display_name": "Python 3.9.13 ('base')",
   "language": "python",
   "name": "python3"
  },
  "language_info": {
   "codemirror_mode": {
    "name": "ipython",
    "version": 3
   },
   "file_extension": ".py",
   "mimetype": "text/x-python",
   "name": "python",
   "nbconvert_exporter": "python",
   "pygments_lexer": "ipython3",
   "version": "3.9.13"
  },
  "orig_nbformat": 4,
  "vscode": {
   "interpreter": {
    "hash": "2043299c89c8cd0b4d1a6f5cf4529bd58e6a4e0fe3181a25e0d328c821cdc5c5"
   }
  }
 },
 "nbformat": 4,
 "nbformat_minor": 2
}

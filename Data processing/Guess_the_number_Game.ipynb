{
 "cells": [
  {
   "cell_type": "code",
   "execution_count": 2,
   "metadata": {},
   "outputs": [],
   "source": [
    "# import plase\n",
    "import random\n",
    "import array"
   ]
  },
  {
   "cell_type": "code",
   "execution_count": 7,
   "metadata": {},
   "outputs": [],
   "source": [
    "global nameArray\n",
    "nameArray = []\n",
    "def gussesArrayList(num):\n",
    "        if num == \"loop\":\n",
    "            return nameArray\n",
    "        if num == \"len\":\n",
    "            return len(nameArray)\n",
    "        if num == \"clear\":\n",
    "            nameArray.clear()\n",
    "        else:\n",
    "            nameArray.append(num)"
   ]
  },
  {
   "cell_type": "code",
   "execution_count": 9,
   "metadata": {},
   "outputs": [
    {
     "data": {
      "text/plain": [
       "[]"
      ]
     },
     "execution_count": 9,
     "metadata": {},
     "output_type": "execute_result"
    }
   ],
   "source": [
    "# gussesAmountNumber(5)\n",
    "\n",
    "# gussesAmountNumber(\"0\")\n",
    "gussesArrayList(\"loop\")"
   ]
  },
  {
   "cell_type": "code",
   "execution_count": 4,
   "metadata": {},
   "outputs": [],
   "source": [
    "def randomNumber():\n",
    "    random_number = random.randint(1, 10)\n",
    "    return int(random_number)\n",
    "def strOrNu(playerinput):\n",
    "\n",
    "    while True:\n",
    "        inputType = str(playerinput).isnumeric()\n",
    "        if playerinput == \"exit\":\n",
    "            return playerinput\n",
    "        if inputType: \n",
    "            return int(playerinput)\n",
    "        else:\n",
    "            print(\"correct input can be exit or number!\")\n",
    "            playerinput =  input(\"correct input can be exit or number!\")\n",
    "\n",
    "def playerChoice():\n",
    "    playerinput =  input(\"Guess which number you are thinking of ?\")\n",
    " \n",
    "    inputType = str(playerinput).isnumeric()\n",
    "    while True:\n",
    "        inputType = str(playerinput).isnumeric()\n",
    "        if playerinput == \"exit\":\n",
    "            return playerinput\n",
    "        if inputType: \n",
    "            return int(playerinput)\n",
    "        else:\n",
    "            print(\"correct input can be exit or number!\")\n",
    "            playerinput =  input(\"correct input can be exit or number!\")"
   ]
  },
  {
   "cell_type": "code",
   "execution_count": 5,
   "metadata": {},
   "outputs": [],
   "source": [
    "def startGame():\n",
    "    rn =  randomNumber()\n",
    "    def printExitOrWin(exit,pn,rnInput):\n",
    "        if exit:\n",
    "            print(\"Last input was :\"+ pn)\n",
    "            print(\"Array of your input choices: \"+ str(gussesArrayList(\"loop\")))\n",
    "            print(\"Guss Amount Number was: \"+ str(gussesArrayList(\"len\")) )\n",
    "            gussesArrayList(\"clear\")\n",
    "        else:\n",
    "            print(\"You win the correct guessing number was \"+ str(rnInput))\n",
    "            print(\"Array of your input choices: \"+ str(gussesArrayList(\"loop\")))\n",
    "            print(\"Guss Amount Number was: \"+ str(gussesArrayList(\"len\")) )\n",
    "            gussesArrayList(\"clear\")\n",
    "            print(\"New game started to end type exit\")   \n",
    "\n",
    "    def randomVsChoice(rnInput,pnInput):\n",
    "        if pnInput == rnInput:\n",
    "            printExitOrWin(False,pnInput,rnInput)\n",
    "            return True\n",
    "        if pnInput > rnInput:\n",
    "            print(\"Too high\")\n",
    "        if pnInput < rnInput:\n",
    "            print(\"Too low\")\n",
    "    \n",
    "    while True:\n",
    "        pn =  playerChoice()\n",
    "        gussesArrayList(pn)\n",
    "        if pn == \"exit\":\n",
    "            printExitOrWin(True,pn,rn)\n",
    "            break \n",
    "        if randomVsChoice(rn,pn):\n",
    "            rn =  randomNumber()  \n",
    "      \n",
    "   \n",
    "        \n",
    "        \n",
    "        "
   ]
  },
  {
   "cell_type": "code",
   "execution_count": 8,
   "metadata": {},
   "outputs": [
    {
     "name": "stdout",
     "output_type": "stream",
     "text": [
      "Too low\n",
      "Too low\n",
      "You win the correct guessing number was 3\n",
      "Array of your input choices: [1, 2, 3]\n",
      "Guss Amount Number was: 3\n",
      "New game started to end type exit\n",
      "You win the correct guessing number was 1\n",
      "Array of your input choices: [1]\n",
      "Guss Amount Number was: 1\n",
      "New game started to end type exit\n",
      "Too low\n",
      "Too high\n",
      "correct input can be exit or number!\n",
      "correct input can be exit or number!\n",
      "Too low\n",
      "Too low\n",
      "Too low\n",
      "correct input can be exit or number!\n",
      "You win the correct guessing number was 8\n",
      "Array of your input choices: [2, 10, 5, 6, 7, 8]\n",
      "Guss Amount Number was: 6\n",
      "New game started to end type exit\n",
      "Last input was :exit\n",
      "Array of your input choices: ['exit']\n",
      "Guss Amount Number was: 1\n"
     ]
    }
   ],
   "source": [
    "startGame()\n"
   ]
  }
 ],
 "metadata": {
  "kernelspec": {
   "display_name": "Python 3.9.13 ('base')",
   "language": "python",
   "name": "python3"
  },
  "language_info": {
   "codemirror_mode": {
    "name": "ipython",
    "version": 3
   },
   "file_extension": ".py",
   "mimetype": "text/x-python",
   "name": "python",
   "nbconvert_exporter": "python",
   "pygments_lexer": "ipython3",
   "version": "3.9.13"
  },
  "orig_nbformat": 4,
  "vscode": {
   "interpreter": {
    "hash": "2043299c89c8cd0b4d1a6f5cf4529bd58e6a4e0fe3181a25e0d328c821cdc5c5"
   }
  }
 },
 "nbformat": 4,
 "nbformat_minor": 2
}

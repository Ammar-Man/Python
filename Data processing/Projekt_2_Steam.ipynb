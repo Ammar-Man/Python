{
 "cells": [
  {
   "cell_type": "code",
   "execution_count": 370,
   "metadata": {},
   "outputs": [],
   "source": [
    "# import here!\n",
    "import pandas as pd"
   ]
  },
  {
   "cell_type": "code",
   "execution_count": 371,
   "metadata": {},
   "outputs": [],
   "source": [
    "import requests"
   ]
  },
  {
   "cell_type": "code",
   "execution_count": 372,
   "metadata": {},
   "outputs": [],
   "source": [
    "from bs4 import BeautifulSoup as bs "
   ]
  },
  {
   "cell_type": "code",
   "execution_count": 373,
   "metadata": {},
   "outputs": [],
   "source": [
    "# to view html table in notebook\n",
    "from IPython.core.display import HTML as html"
   ]
  },
  {
   "cell_type": "code",
   "execution_count": 374,
   "metadata": {},
   "outputs": [],
   "source": [
    "from urllib.request import urlopen "
   ]
  },
  {
   "cell_type": "code",
   "execution_count": 375,
   "metadata": {},
   "outputs": [],
   "source": [
    "# to view html table in notebook\n",
    "from IPython.core.display import HTML as html"
   ]
  },
  {
   "cell_type": "code",
   "execution_count": 376,
   "metadata": {},
   "outputs": [],
   "source": [
    "# Importing re to get number out from a stirng.\n",
    "import re"
   ]
  },
  {
   "cell_type": "code",
   "execution_count": 399,
   "metadata": {},
   "outputs": [],
   "source": [
    "import pandas as pd\n",
    "import datetime"
   ]
  },
  {
   "cell_type": "code",
   "execution_count": 378,
   "metadata": {},
   "outputs": [],
   "source": [
    "res = requests.get(\"https://store.steampowered.com/search/?specials=1&page=1\")\n"
   ]
  },
  {
   "cell_type": "code",
   "execution_count": 379,
   "metadata": {},
   "outputs": [],
   "source": [
    "soup = bs(res.text,'html.parser')"
   ]
  },
  {
   "cell_type": "code",
   "execution_count": 380,
   "metadata": {},
   "outputs": [],
   "source": [
    "soup2 = bs(urlopen(\"https://store.steampowered.com/search/?specials=1&page=1\").read())\n",
    "\n",
    "title = soup2.findAll(\"div\",{\"class\":\"col search_name ellipsis\"})\n",
    "platform_class = title\n",
    "date = soup2.findAll(\"div\",{\"class\":\"col search_released responsive_secondrow\"})\n",
    "discount = soup2.findAll(\"div\",{\"class\":\"col search_discount responsive_secondrow\"})\n",
    "\n",
    "containers = soup2.findAll(\"div\",{\"class\":\"col search_price discounted responsive_secondrow\"})\n",
    "reviews = soup2.findAll(\"div\",{\"col search_reviewscore responsive_secondrow\"})\n",
    "\n"
   ]
  },
  {
   "cell_type": "code",
   "execution_count": 426,
   "metadata": {},
   "outputs": [
    {
     "name": "stdout",
     "output_type": "stream",
     "text": [
      "24\n",
      "25\n"
     ]
    },
    {
     "data": {
      "text/plain": [
       "bs4.element.Tag"
      ]
     },
     "execution_count": 426,
     "metadata": {},
     "output_type": "execute_result"
    }
   ],
   "source": [
    "print(len(containers))\n",
    "print(len(reviews))\n",
    "type(containers[0]) "
   ]
  },
  {
   "cell_type": "code",
   "execution_count": 415,
   "metadata": {},
   "outputs": [
    {
     "name": "stdout",
     "output_type": "stream",
     "text": [
      "2022-12-19 18:07:14.366789\n"
     ]
    }
   ],
   "source": [
    "# GameName \n",
    "gameNameLi = []\n",
    "def gameName (): \n",
    "    for x in range(len(title)):\n",
    "        gameNameLi.append(str(title[x].text.replace(\"\\n\",\"\")))\n",
    "gameName ()\n",
    "\n",
    "#Dicount \n",
    "discountPriceLi = []\n",
    "def discountPrice (): \n",
    "    for x in range(len(discount)):\n",
    "        discountPriceLi.append(str(discount[x].text.replace(\"\\n\",\"\")))\n",
    "discountPrice()\n",
    "\n",
    "#Date \n",
    "ReleaseYearLi = []\n",
    "def ReleaseYear (): \n",
    "    for x in range(len(date)):\n",
    "        ReleaseYearLi.append(str(date[x].text.replace(\"\\n\",\"\")))\n",
    "ReleaseYear()\n",
    "\n",
    "\n",
    "# Ordinarie Price\n",
    "OrdinariePriceLi = []\n",
    "def OrdinariePrice (): \n",
    "    for x in range(len(containers)):\n",
    "        OrdinariePriceLi.append(str(containers[x].text[0:7].replace(\"\\n\",\"\")))\n",
    "    OrdinariePriceLi.append(\" \") \n",
    "OrdinariePrice()\n",
    "# print(OrdinariePriceLi)\n",
    "\n",
    "\n",
    "# Sale Price\n",
    "SalePriceLi = []\n",
    "def SalePrice (): \n",
    "    for x in range(len(containers)):\n",
    "            textFix = str(containers[x].text[7:25].replace(\"\\n\",\"\"))\n",
    "            SalePriceLi.append(textFix.strip())\n",
    "    SalePriceLi.append(\" \") \n",
    "SalePrice()\n",
    "\n",
    "# date for today[]\n",
    "# datefortoday = []\n",
    "dateForTodayLi = []\n",
    "def datefortoday (): \n",
    "    for x in range(len(date)):\n",
    "            dateTimeNow = datetime.datetime.now()\n",
    "            dateForTodayLi.append(str(dateTimeNow.strftime(\"%d %b %G\"))) \n",
    "datefortoday()\n",
    "print(datetime.datetime.now())\n",
    "\n",
    "\n"
   ]
  },
  {
   "cell_type": "code",
   "execution_count": 383,
   "metadata": {},
   "outputs": [
    {
     "name": "stdout",
     "output_type": "stream",
     "text": [
      "25\n",
      "25\n"
     ]
    }
   ],
   "source": [
    "print(len(OrdinariePriceLi))\n",
    "print(len(reviews))"
   ]
  },
  {
   "cell_type": "code",
   "execution_count": 384,
   "metadata": {},
   "outputs": [],
   "source": [
    "# Platform |Win|Lin|OSX|\n",
    "def oneOrzero (name):\n",
    "    if(name): \n",
    "            name = 1\n",
    "    if not (name):\n",
    "            name = 0 \n",
    "    return name\n",
    "\n",
    "platform = []\n",
    "platformWin = []\n",
    "platformLinux = []\n",
    "platformMac = []\n",
    "for row in platform_class:\n",
    "    if (len(row) < 50):\n",
    "        # platform.append(row.text.replace(\"\\n\",\"\"))\n",
    "        win = row.findAll(\"span\",{\"class\":\"platform_img win\"})\n",
    "        linux = row.findAll(\"span\",{\"class\":\"platform_img linux\"})\n",
    "        mac = row.findAll(\"span\",{\"class\":\"platform_img mac\"})\n",
    "\n",
    "        win = oneOrzero(win)\n",
    "        linux = oneOrzero(linux)\n",
    "        mac = oneOrzero(mac)\n",
    "\n",
    "        tot = (\"|\"+str(win)+\"|\"+str(linux)+\"|\"+str(mac)+\"|\")\n",
    "        platform.append(tot)\n",
    "        platformWin.append(str(win))\n",
    "        platformLinux.append(str(linux))\n",
    "        platformMac.append(str(mac))\n",
    "\n",
    "\n",
    "# platform"
   ]
  },
  {
   "cell_type": "code",
   "execution_count": 385,
   "metadata": {},
   "outputs": [],
   "source": [
    "# Rating [1-5]\n",
    "# to get rating and converting it from text like \"ver positve\" to digtial number from 1 to 5 with is best!\n",
    "def oneOrZeroRating (positive,mixed):\n",
    "    if(positive): \n",
    "        info=(str(positive))\n",
    "        reviewOP= info.replace('Overwhelmingly Positive','')\n",
    "        reviewVP= info.replace('Very Positive','')\n",
    "        reviewsMP= info.replace('Mostly Positive','')\n",
    "        if( len(info) != len(reviewOP) ):\n",
    "            return \"5\"\n",
    "        if( len(info) != len(reviewVP) ):\n",
    "            return \"4\"\n",
    "        if( len(info) != len(reviewsMP) ):\n",
    "            return \"3\"\n",
    "        else:\n",
    "            return \"3\"\n",
    "    if(mixed):\n",
    "        mixed=(str(mixed)) \n",
    "        return \"2\"\n",
    "    else:\n",
    "        return \"1\"\n",
    "\n",
    "ratingInfo = []\n",
    "for row in reviews:\n",
    "    positive = row.findAll(\"span\",{\"class\":\"search_review_summary positive\"})\n",
    "    mixed = row.findAll(\"span\",{\"class\":\"search_review_summary mixed\"})\n",
    "    result = oneOrZeroRating(positive, mixed)\n",
    "    tot = (result)\n",
    "    ratingInfo.append(tot)\n",
    "# ratingInfo"
   ]
  },
  {
   "cell_type": "code",
   "execution_count": 393,
   "metadata": {},
   "outputs": [],
   "source": [
    "# Rating: \n",
    "# To get rating and converting it from text like \"Very Positive\" to digtial number from 1 to 5 and 5 is best!\n",
    "\n",
    "def changeListIndexToNumber (input):\n",
    "    input = re.findall(r'\\d+', str(input))\n",
    "    return ','.join(input[1:5])\n",
    "\n",
    "def getReviewsNumber (positive,mixed):\n",
    "    if(positive): \n",
    "        info=(str(positive))\n",
    "        reviewOP= info.replace('Overwhelmingly Positive','')\n",
    "        reviewVP= info.replace('Very Positive','')\n",
    "        reviewsMP= info.replace('Mostly Positive','')\n",
    "        if( len(info) != len(reviewOP) ):\n",
    "            return changeListIndexToNumber (positive)\n",
    "        if( len(info) != len(reviewVP) ):\n",
    "            return changeListIndexToNumber (positive)\n",
    "        if( len(info) != len(reviewsMP) ):\n",
    "            return changeListIndexToNumber (positive)\n",
    "        else:\n",
    "            return changeListIndexToNumber (positive)\n",
    "    if(mixed):\n",
    "        mixed=(str(mixed)) \n",
    "        return changeListIndexToNumber (mixed)\n",
    "    else:\n",
    "        return changeListIndexToNumber (mixed)\n",
    "\n",
    "reviewsList = []\n",
    "for row in reviews:\n",
    "    positive = row.findAll(\"span\",{\"class\":\"search_review_summary positive\"})\n",
    "    mixed = row.findAll(\"span\",{\"class\":\"search_review_summary mixed\"})\n",
    "    result = getReviewsNumber(positive, mixed)\n",
    "    tot = (\"#\"+result)\n",
    "    reviewsList.append(tot)\n",
    "# reviewsList"
   ]
  },
  {
   "cell_type": "code",
   "execution_count": 424,
   "metadata": {},
   "outputs": [
    {
     "data": {
      "text/html": [
       "<div>\n",
       "<style scoped>\n",
       "    .dataframe tbody tr th:only-of-type {\n",
       "        vertical-align: middle;\n",
       "    }\n",
       "\n",
       "    .dataframe tbody tr th {\n",
       "        vertical-align: top;\n",
       "    }\n",
       "\n",
       "    .dataframe thead th {\n",
       "        text-align: right;\n",
       "    }\n",
       "</style>\n",
       "<table border=\"1\" class=\"dataframe\">\n",
       "  <thead>\n",
       "    <tr style=\"text-align: right;\">\n",
       "      <th></th>\n",
       "      <th>Game_Name</th>\n",
       "      <th>Rating</th>\n",
       "      <th>#Reviews</th>\n",
       "      <th>Rabatt%</th>\n",
       "      <th>OrdinariePris</th>\n",
       "      <th>Sale Price</th>\n",
       "      <th>Release_Year</th>\n",
       "      <th>Win</th>\n",
       "      <th>linux</th>\n",
       "      <th>OSX</th>\n",
       "      <th>Date</th>\n",
       "    </tr>\n",
       "  </thead>\n",
       "  <tbody>\n",
       "    <tr>\n",
       "      <th>0</th>\n",
       "      <td>Red Dead Redemption 2</td>\n",
       "      <td>4</td>\n",
       "      <td>#300,719</td>\n",
       "      <td>-67%</td>\n",
       "      <td>59,99€</td>\n",
       "      <td>19,79€</td>\n",
       "      <td>5 Dec, 2019</td>\n",
       "      <td>1</td>\n",
       "      <td>0</td>\n",
       "      <td>0</td>\n",
       "      <td>19 Dec 2022</td>\n",
       "    </tr>\n",
       "    <tr>\n",
       "      <th>1</th>\n",
       "      <td>EA SPORTS™ FIFA 23</td>\n",
       "      <td>2</td>\n",
       "      <td>#36,691</td>\n",
       "      <td>-60%</td>\n",
       "      <td>69,99€</td>\n",
       "      <td>27,99€</td>\n",
       "      <td>29 Sep, 2022</td>\n",
       "      <td>1</td>\n",
       "      <td>0</td>\n",
       "      <td>0</td>\n",
       "      <td>19 Dec 2022</td>\n",
       "    </tr>\n",
       "    <tr>\n",
       "      <th>2</th>\n",
       "      <td>Assassin's Creed Valhalla</td>\n",
       "      <td>2</td>\n",
       "      <td>#2,548</td>\n",
       "      <td>-67%</td>\n",
       "      <td>59,99€</td>\n",
       "      <td>19,80€</td>\n",
       "      <td>6 Dec, 2022</td>\n",
       "      <td>1</td>\n",
       "      <td>0</td>\n",
       "      <td>0</td>\n",
       "      <td>19 Dec 2022</td>\n",
       "    </tr>\n",
       "    <tr>\n",
       "      <th>3</th>\n",
       "      <td>STAR WARS Jedi: Fallen Order™</td>\n",
       "      <td>4</td>\n",
       "      <td>#90,360</td>\n",
       "      <td>-88%</td>\n",
       "      <td>39,99€</td>\n",
       "      <td>4,79€</td>\n",
       "      <td>14 Nov, 2019</td>\n",
       "      <td>1</td>\n",
       "      <td>0</td>\n",
       "      <td>0</td>\n",
       "      <td>19 Dec 2022</td>\n",
       "    </tr>\n",
       "    <tr>\n",
       "      <th>4</th>\n",
       "      <td>God of War</td>\n",
       "      <td>5</td>\n",
       "      <td>#54,793</td>\n",
       "      <td>-40%</td>\n",
       "      <td>49,99€</td>\n",
       "      <td>29,99€</td>\n",
       "      <td>14 Jan, 2022</td>\n",
       "      <td>1</td>\n",
       "      <td>0</td>\n",
       "      <td>0</td>\n",
       "      <td>19 Dec 2022</td>\n",
       "    </tr>\n",
       "  </tbody>\n",
       "</table>\n",
       "</div>"
      ],
      "text/plain": [
       "                        Game_Name Rating  #Reviews Rabatt% OrdinariePris  \\\n",
       "0          Red Dead Redemption 2       4  #300,719    -67%        59,99€   \n",
       "1             EA SPORTS™ FIFA 23       2   #36,691    -60%        69,99€   \n",
       "2      Assassin's Creed Valhalla       2    #2,548    -67%        59,99€   \n",
       "3  STAR WARS Jedi: Fallen Order™       4   #90,360    -88%        39,99€   \n",
       "4                     God of War       5   #54,793    -40%        49,99€   \n",
       "\n",
       "  Sale Price  Release_Year Win linux OSX         Date  \n",
       "0     19,79€   5 Dec, 2019   1     0   0  19 Dec 2022  \n",
       "1     27,99€  29 Sep, 2022   1     0   0  19 Dec 2022  \n",
       "2     19,80€   6 Dec, 2022   1     0   0  19 Dec 2022  \n",
       "3      4,79€  14 Nov, 2019   1     0   0  19 Dec 2022  \n",
       "4     29,99€  14 Jan, 2022   1     0   0  19 Dec 2022  "
      ]
     },
     "execution_count": 424,
     "metadata": {},
     "output_type": "execute_result"
    }
   ],
   "source": [
    "# mydataset\n",
    "mydataset = {\n",
    "  'Game_Name': gameNameLi,\n",
    "  'Rating': ratingInfo,\n",
    "  '#Reviews':reviewsList,\n",
    "  'Rabatt%': discountPriceLi,\n",
    "  'OrdinariePris': OrdinariePriceLi,\n",
    "  'Sale Price': SalePriceLi,\n",
    "  'Release_Year':ReleaseYearLi,\n",
    "  'Win':platformWin,  \n",
    "  'linux': platformLinux,\n",
    "  'OSX':  platformMac, \n",
    "  'Date':dateForTodayLi\n",
    "  }\n",
    "myvar = pd.DataFrame(mydataset)\n",
    "myvar.head()"
   ]
  },
  {
   "attachments": {},
   "cell_type": "markdown",
   "metadata": {},
   "source": [
    "Spelnamn|Rating|#Reviews|Rabatt%|Pris|OrdinariePris|Utgivningsår|Win|Lin|OSX|Tid"
   ]
  },
  {
   "cell_type": "code",
   "execution_count": null,
   "metadata": {},
   "outputs": [],
   "source": []
  }
 ],
 "metadata": {
  "kernelspec": {
   "display_name": "Python 3",
   "language": "python",
   "name": "python3"
  },
  "language_info": {
   "codemirror_mode": {
    "name": "ipython",
    "version": 3
   },
   "file_extension": ".py",
   "mimetype": "text/x-python",
   "name": "python",
   "nbconvert_exporter": "python",
   "pygments_lexer": "ipython3",
   "version": "3.10.0"
  },
  "orig_nbformat": 4,
  "vscode": {
   "interpreter": {
    "hash": "a42ccb73e7d9bfdf27e036f1d2b8b681e55fc0743cc5586bc2474d4a60f4b886"
   }
  }
 },
 "nbformat": 4,
 "nbformat_minor": 2
}

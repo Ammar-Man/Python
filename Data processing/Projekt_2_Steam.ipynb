{
 "cells": [
  {
   "cell_type": "code",
   "execution_count": 1,
   "metadata": {},
   "outputs": [],
   "source": [
    "# import here!\n",
    "import pandas as pd"
   ]
  },
  {
   "cell_type": "code",
   "execution_count": 2,
   "metadata": {},
   "outputs": [],
   "source": [
    "import requests"
   ]
  },
  {
   "cell_type": "code",
   "execution_count": 3,
   "metadata": {},
   "outputs": [],
   "source": [
    "from bs4 import BeautifulSoup as bs "
   ]
  },
  {
   "cell_type": "code",
   "execution_count": 4,
   "metadata": {},
   "outputs": [],
   "source": [
    "# to view html table in notebook\n",
    "from IPython.core.display import HTML as html"
   ]
  },
  {
   "cell_type": "code",
   "execution_count": 5,
   "metadata": {},
   "outputs": [],
   "source": [
    "from urllib.request import urlopen "
   ]
  },
  {
   "cell_type": "code",
   "execution_count": 6,
   "metadata": {},
   "outputs": [],
   "source": [
    "# to view html table in notebook\n",
    "from IPython.core.display import HTML as html"
   ]
  },
  {
   "cell_type": "code",
   "execution_count": 7,
   "metadata": {},
   "outputs": [],
   "source": [
    "# Importing re to get number out from a stirng.\n",
    "import re"
   ]
  },
  {
   "cell_type": "code",
   "execution_count": 152,
   "metadata": {},
   "outputs": [],
   "source": [
    "import pandas as pd"
   ]
  },
  {
   "cell_type": "code",
   "execution_count": 8,
   "metadata": {},
   "outputs": [],
   "source": [
    "res = requests.get(\"https://store.steampowered.com/search/?specials=1&page=1\")\n"
   ]
  },
  {
   "cell_type": "code",
   "execution_count": 9,
   "metadata": {},
   "outputs": [],
   "source": [
    "soup = bs(res.text,'html.parser')"
   ]
  },
  {
   "cell_type": "code",
   "execution_count": 225,
   "metadata": {},
   "outputs": [],
   "source": [
    "soup2 = bs(urlopen(\"https://store.steampowered.com/search/?specials=1&page=1\").read())\n",
    "containers = soup2.findAll(\"div\",{\"class\":\"col search_price discounted responsive_secondrow\"})\n",
    "title = soup2.findAll(\"div\",{\"class\":\"col search_name ellipsis\"})\n",
    "platform_class = title\n",
    "date = soup2.findAll(\"div\",{\"class\":\"col search_released responsive_secondrow\"})\n",
    "discount = soup2.findAll(\"div\",{\"class\":\"col search_discount responsive_secondrow\"})\n",
    "reviews = soup2.findAll(\"div\",{\"col search_reviewscore responsive_secondrow\"})\n",
    "\n"
   ]
  },
  {
   "cell_type": "code",
   "execution_count": 230,
   "metadata": {},
   "outputs": [],
   "source": [
    "# GameName \n",
    "gameNameLi = []\n",
    "def gameName (): \n",
    "    for x in range(len(title)):\n",
    "        gameNameLi.append(str(title[x].text.replace(\"\\n\",\"\")))\n",
    "gameName ()\n",
    "\n",
    "#Dicount \n",
    "discountPriceLi = []\n",
    "def discountPrice (): \n",
    "    for x in range(len(discount)):\n",
    "        discountPriceLi.append(str(discount[x].text.replace(\"\\n\",\"\")))\n",
    "discountPrice()\n",
    "\n",
    "#Date \n",
    "ReleaseYearLi = []\n",
    "def ReleaseYear (): \n",
    "    for x in range(len(date)):\n",
    "        ReleaseYearLi.append(str(date[x].text.replace(\"\\n\",\"\")))\n",
    "ReleaseYear()\n",
    "\n",
    "\n",
    "# date for today[]\n",
    "datefortoday = []"
   ]
  },
  {
   "cell_type": "code",
   "execution_count": 214,
   "metadata": {},
   "outputs": [],
   "source": [
    "# Platform |Win|Lin|OSX|\n",
    "def oneOrzero (name):\n",
    "    if(name): \n",
    "            name = 1\n",
    "    if not (name):\n",
    "            name = 0 \n",
    "    return name\n",
    "\n",
    "platform = []\n",
    "platformWin = []\n",
    "platformLinux = []\n",
    "platformMac = []\n",
    "for row in platform_class:\n",
    "    if (len(row) < 50):\n",
    "        # platform.append(row.text.replace(\"\\n\",\"\"))\n",
    "        win = row.findAll(\"span\",{\"class\":\"platform_img win\"})\n",
    "        linux = row.findAll(\"span\",{\"class\":\"platform_img linux\"})\n",
    "        mac = row.findAll(\"span\",{\"class\":\"platform_img mac\"})\n",
    "\n",
    "        win = oneOrzero(win)\n",
    "        linux = oneOrzero(linux)\n",
    "        mac = oneOrzero(mac)\n",
    "\n",
    "        tot = (\"|\"+str(win)+\"|\"+str(linux)+\"|\"+str(mac)+\"|\")\n",
    "        platform.append(tot)\n",
    "        platformWin.append(str(win))\n",
    "        platformLinux.append(str(linux))\n",
    "        platformMac.append(str(mac))\n",
    "\n",
    "\n",
    "# platform"
   ]
  },
  {
   "cell_type": "code",
   "execution_count": 88,
   "metadata": {},
   "outputs": [],
   "source": [
    "# Rating [1-5]\n",
    "# to get rating and converting it from text like \"ver positve\" to digtial number from 1 to 5 with is best!\n",
    "def oneOrZeroRating (positive,mixed):\n",
    "    if(positive): \n",
    "        info=(str(positive))\n",
    "        reviewOP= info.replace('Overwhelmingly Positive','')\n",
    "        reviewVP= info.replace('Very Positive','')\n",
    "        reviewsMP= info.replace('Mostly Positive','')\n",
    "        if( len(info) != len(reviewOP) ):\n",
    "            return \"5\"\n",
    "        if( len(info) != len(reviewVP) ):\n",
    "            return \"4\"\n",
    "        if( len(info) != len(reviewsMP) ):\n",
    "            return \"3\"\n",
    "        else:\n",
    "            return \"3\"\n",
    "    if(mixed):\n",
    "        mixed=(str(mixed)) \n",
    "        return \"2\"\n",
    "    else:\n",
    "        return \"1\"\n",
    "\n",
    "ratingInfo = []\n",
    "for row in reviews:\n",
    "    positive = row.findAll(\"span\",{\"class\":\"search_review_summary positive\"})\n",
    "    mixed = row.findAll(\"span\",{\"class\":\"search_review_summary mixed\"})\n",
    "    result = oneOrZeroRating(positive, mixed)\n",
    "    tot = (\"|\"+result+\"|\")\n",
    "    ratingInfo.append(tot)\n",
    "# ratingInfo"
   ]
  },
  {
   "cell_type": "code",
   "execution_count": 212,
   "metadata": {},
   "outputs": [],
   "source": [
    "# Rating: \n",
    "# To get rating and converting it from text like \"Very Positive\" to digtial number from 1 to 5 and 5 is best!\n",
    "\n",
    "def changeListIndexToNumber (input):\n",
    "    input = re.findall(r'\\d+', str(input))\n",
    "    return ','.join(input[1:3])\n",
    "\n",
    "def getReviewsNumber (positive,mixed):\n",
    "    if(positive): \n",
    "        info=(str(positive))\n",
    "        reviewOP= info.replace('Overwhelmingly Positive','')\n",
    "        reviewVP= info.replace('Very Positive','')\n",
    "        reviewsMP= info.replace('Mostly Positive','')\n",
    "        if( len(info) != len(reviewOP) ):\n",
    "            return changeListIndexToNumber (positive)\n",
    "        if( len(info) != len(reviewVP) ):\n",
    "            return changeListIndexToNumber (positive)\n",
    "        if( len(info) != len(reviewsMP) ):\n",
    "            return changeListIndexToNumber (positive)\n",
    "        else:\n",
    "            return changeListIndexToNumber (positive)\n",
    "    if(mixed):\n",
    "        mixed=(str(mixed)) \n",
    "        return changeListIndexToNumber (mixed)\n",
    "    else:\n",
    "        return changeListIndexToNumber (mixed)\n",
    "\n",
    "reviewsList = []\n",
    "for row in reviews:\n",
    "    positive = row.findAll(\"span\",{\"class\":\"search_review_summary positive\"})\n",
    "    mixed = row.findAll(\"span\",{\"class\":\"search_review_summary mixed\"})\n",
    "    result = getReviewsNumber(positive, mixed)\n",
    "    tot = (\"#\"+result+\"|\")\n",
    "    reviewsList.append(tot)\n",
    "# reviewsList"
   ]
  },
  {
   "cell_type": "code",
   "execution_count": 149,
   "metadata": {},
   "outputs": [
    {
     "name": "stdout",
     "output_type": "stream",
     "text": [
      "Game name : Red Dead Redemption 2 \n",
      "rating:|4|\n",
      "Sale Price: 19,79€            \n",
      "Ordinarie Price: \n",
      "59,99€\n",
      "Utgivningsår: 5 Dec, 2019\n",
      "discount: -67%\n",
      "platform: |1|0|0|\n",
      "reviews:|#300,618|\n"
     ]
    },
    {
     "data": {
      "text/plain": [
       "25"
      ]
     },
     "execution_count": 149,
     "metadata": {},
     "output_type": "execute_result"
    }
   ],
   "source": [
    "\n",
    "print(\"Game name : \" + gameName(0))\n",
    "print(\"rating:\"+ ratingInfo[0])\n",
    "print(\"Sale Price: \" + containers[0].text[7:25])\n",
    "print(\"Ordinarie Price: \" + containers[0].text[0:7])\n",
    "print( \"Utgivningsår: \" +date[0].text)\n",
    "print( \"discount: \" +discountPrice(0))\n",
    "print(\"platform: \" +platform[0])\n",
    "print(\"reviews:\"+ reviewsList[0])\n",
    "len(platform)\n",
    "\n",
    "\n",
    "\n"
   ]
  },
  {
   "cell_type": "code",
   "execution_count": 232,
   "metadata": {},
   "outputs": [
    {
     "name": "stdout",
     "output_type": "stream",
     "text": [
      "   Spelnamn Rating   #Reviews Rabatt% OrdinariePris  Utgivningsår Win linux  \\\n",
      "0       |4|    |4|  #300,618|    -67%           |4|   5 Dec, 2019   1     0   \n",
      "1       |2|    |2|   #36,497|    -60%           |2|  29 Sep, 2022   1     0   \n",
      "2       |5|    |5|   #54,761|    -40%           |5|  14 Jan, 2022   1     0   \n",
      "3       |4|    |4|   #90,306|    -67%           |4|   6 Dec, 2022   1     0   \n",
      "4       |2|    |2|    #2,517|    -88%           |2|  14 Nov, 2019   1     0   \n",
      "5       |4|    |4|  #115,519|                   |4|  13 Apr, 2015   1     0   \n",
      "6       |4|    |4|  #159,061|    -60%           |4|  27 Aug, 2019   1     1   \n",
      "7       |4|    |4|   #90,306|    -70%           |4|  10 Mar, 2015   1     0   \n",
      "8       |4|    |4|    #1,325|    -63%           |4|                 1     0   \n",
      "9       |4|    |4|   #60,772|    -67%           |4|  13 May, 2020   1     0   \n",
      "10      |4|    |4|    #1,332|    -43%           |4|  17 Jun, 2022   1     0   \n",
      "11      |4|    |4|    #9,274|    -50%           |4|  28 Sep, 2021   1     0   \n",
      "12      |2|    |2|  #211,078|    -80%           |2|  17 May, 2018   1     0   \n",
      "13      |5|    |5|  #137,957|    -86%           |5|  14 Nov, 2019   1     0   \n",
      "14      |4|    |4|   #31,847|    -75%           |4|   5 Nov, 2019   1     0   \n",
      "15      |3|    |3|   #92,466|    -67%           |3|  17 May, 2021   1     0   \n",
      "16      |4|    |4|    #5,657|    -67%           |4|      Apr 2019   1     0   \n",
      "17      |3|    |3|    #4,416|    -50%           |3|   3 Feb, 2022   1     0   \n",
      "18      |4|    |4|   #53,232|    -80%           |4|  26 Mar, 2019   1     0   \n",
      "19      |4|    |4|  #117,306|    -63%           |4|   4 Jun, 2021   1     0   \n",
      "20      |3|    |3|   #18,729|    -75%           |3|   5 Oct, 2018   1     0   \n",
      "21      |4|    |4|   #12,834|    -75%           |4|   7 Mar, 2018   1     0   \n",
      "22      |4|    |4|  #166,181|    -20%           |4|  13 Dec, 2022   1     0   \n",
      "23      |5|    |5|   #36,199|    -25%           |5|  12 Aug, 2022   1     0   \n",
      "24      |4|    |4|    #6,762|    -10%           |4|  15 Dec, 2022   1     0   \n",
      "\n",
      "   OSX  \n",
      "0    0  \n",
      "1    0  \n",
      "2    0  \n",
      "3    0  \n",
      "4    0  \n",
      "5    0  \n",
      "6    1  \n",
      "7    0  \n",
      "8    0  \n",
      "9    1  \n",
      "10   0  \n",
      "11   0  \n",
      "12   0  \n",
      "13   0  \n",
      "14   0  \n",
      "15   0  \n",
      "16   0  \n",
      "17   0  \n",
      "18   0  \n",
      "19   0  \n",
      "20   0  \n",
      "21   0  \n",
      "22   0  \n",
      "23   0  \n",
      "24   0  \n"
     ]
    }
   ],
   "source": [
    "# mydataset\n",
    "mydataset = {\n",
    "  'Spelnamn': ratingInfo,\n",
    "  'Rating': ratingInfo,\n",
    "  '#Reviews':reviewsList,\n",
    "  'Rabatt%': discountPriceLi,\n",
    "  'OrdinariePris': ratingInfo,\n",
    "  'Utgivningsår':ReleaseYearLi,\n",
    "  'Win':platformWin,  \n",
    "  'linux': platformLinux,\n",
    "  'OSX':  platformMac, \n",
    "  }\n",
    "myvar = pd.DataFrame(mydataset)\n",
    "print(myvar)\n",
    "\n"
   ]
  },
  {
   "attachments": {},
   "cell_type": "markdown",
   "metadata": {},
   "source": [
    "Spelnamn|Rating|#Reviews|Rabatt%|Pris|OrdinariePris|Utgivningsår|Win|Lin|OSX|Tid"
   ]
  },
  {
   "cell_type": "code",
   "execution_count": 166,
   "metadata": {},
   "outputs": [
    {
     "name": "stdout",
     "output_type": "stream",
     "text": [
      "   Spelnamn Rating #Reviews Pris OrdinariePris Utgivningsår  Win  Lin  OSX  \\\n",
      "0       |4|    |4|      |4|  |4|           |4|          |4|  |4|  |4|  |4|   \n",
      "1       |2|    |2|      |2|  |2|           |2|          |2|  |2|  |2|  |2|   \n",
      "2       |5|    |5|      |5|  |5|           |5|          |5|  |5|  |5|  |5|   \n",
      "3       |4|    |4|      |4|  |4|           |4|          |4|  |4|  |4|  |4|   \n",
      "4       |2|    |2|      |2|  |2|           |2|          |2|  |2|  |2|  |2|   \n",
      "5       |4|    |4|      |4|  |4|           |4|          |4|  |4|  |4|  |4|   \n",
      "6       |4|    |4|      |4|  |4|           |4|          |4|  |4|  |4|  |4|   \n",
      "7       |4|    |4|      |4|  |4|           |4|          |4|  |4|  |4|  |4|   \n",
      "8       |4|    |4|      |4|  |4|           |4|          |4|  |4|  |4|  |4|   \n",
      "9       |4|    |4|      |4|  |4|           |4|          |4|  |4|  |4|  |4|   \n",
      "10      |4|    |4|      |4|  |4|           |4|          |4|  |4|  |4|  |4|   \n",
      "11      |4|    |4|      |4|  |4|           |4|          |4|  |4|  |4|  |4|   \n",
      "12      |2|    |2|      |2|  |2|           |2|          |2|  |2|  |2|  |2|   \n",
      "13      |5|    |5|      |5|  |5|           |5|          |5|  |5|  |5|  |5|   \n",
      "14      |4|    |4|      |4|  |4|           |4|          |4|  |4|  |4|  |4|   \n",
      "15      |3|    |3|      |3|  |3|           |3|          |3|  |3|  |3|  |3|   \n",
      "16      |4|    |4|      |4|  |4|           |4|          |4|  |4|  |4|  |4|   \n",
      "17      |3|    |3|      |3|  |3|           |3|          |3|  |3|  |3|  |3|   \n",
      "18      |4|    |4|      |4|  |4|           |4|          |4|  |4|  |4|  |4|   \n",
      "19      |4|    |4|      |4|  |4|           |4|          |4|  |4|  |4|  |4|   \n",
      "20      |3|    |3|      |3|  |3|           |3|          |3|  |3|  |3|  |3|   \n",
      "21      |4|    |4|      |4|  |4|           |4|          |4|  |4|  |4|  |4|   \n",
      "22      |4|    |4|      |4|  |4|           |4|          |4|  |4|  |4|  |4|   \n",
      "23      |5|    |5|      |5|  |5|           |5|          |5|  |5|  |5|  |5|   \n",
      "24      |4|    |4|      |4|  |4|           |4|          |4|  |4|  |4|  |4|   \n",
      "\n",
      "    Tid  \n",
      "0   |4|  \n",
      "1   |2|  \n",
      "2   |5|  \n",
      "3   |4|  \n",
      "4   |2|  \n",
      "5   |4|  \n",
      "6   |4|  \n",
      "7   |4|  \n",
      "8   |4|  \n",
      "9   |4|  \n",
      "10  |4|  \n",
      "11  |4|  \n",
      "12  |2|  \n",
      "13  |5|  \n",
      "14  |4|  \n",
      "15  |3|  \n",
      "16  |4|  \n",
      "17  |3|  \n",
      "18  |4|  \n",
      "19  |4|  \n",
      "20  |3|  \n",
      "21  |4|  \n",
      "22  |4|  \n",
      "23  |5|  \n",
      "24  |4|  \n"
     ]
    }
   ],
   "source": []
  },
  {
   "cell_type": "code",
   "execution_count": 158,
   "metadata": {},
   "outputs": [
    {
     "name": "stdout",
     "output_type": "stream",
     "text": [
      "    cars  passings  prosent\n",
      "0    BMW         3       85\n",
      "1  Volvo         7       88\n",
      "2   Ford         2       89\n"
     ]
    }
   ],
   "source": [
    "mydataset = {\n",
    "  'cars': [\"BMW\", \"Volvo\", \"Ford\"],\n",
    "  'passings': [3, 7, 2],\n",
    "  'prosent':[85,88,89]\n",
    "}\n",
    "\n",
    "myvar = pd.DataFrame(mydataset)\n",
    "\n",
    "print(myvar)"
   ]
  }
 ],
 "metadata": {
  "kernelspec": {
   "display_name": "Python 3",
   "language": "python",
   "name": "python3"
  },
  "language_info": {
   "codemirror_mode": {
    "name": "ipython",
    "version": 3
   },
   "file_extension": ".py",
   "mimetype": "text/x-python",
   "name": "python",
   "nbconvert_exporter": "python",
   "pygments_lexer": "ipython3",
   "version": "3.10.0"
  },
  "orig_nbformat": 4,
  "vscode": {
   "interpreter": {
    "hash": "a42ccb73e7d9bfdf27e036f1d2b8b681e55fc0743cc5586bc2474d4a60f4b886"
   }
  }
 },
 "nbformat": 4,
 "nbformat_minor": 2
}

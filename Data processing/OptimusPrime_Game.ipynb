{
 "cells": [
  {
   "cell_type": "code",
   "execution_count": 97,
   "metadata": {},
   "outputs": [],
   "source": [
    "def isPrimeOrNot():\n",
    "    n = int(input(\"Enter a number: \"))\n",
    "    print(\"Your number chose was:\" +str(n))\n",
    "    primtNumber = True   \n",
    "    for i in range(2, n):\n",
    "        if (n % i == 0):\n",
    "            print (str(n)+\" % \"+ str(i)+\" = 0\")\n",
    "            print(str(n)+ \" is not a prime number\")\n",
    "            primtNumber = False\n",
    "            break\n",
    "    if primtNumber:\n",
    "        for i in range(2, n+1):\n",
    "            if (n % i != 0):\n",
    "                print (str(n)+\" % \"+ str(i)+\" = 1\")\n",
    "                print(str(n)+ \" is a prime number \")\n",
    "                primtNumber = False\n",
    "                break\n",
    "\n",
    "    "
   ]
  },
  {
   "cell_type": "code",
   "execution_count": 95,
   "metadata": {},
   "outputs": [
    {
     "name": "stdout",
     "output_type": "stream",
     "text": [
      "63 % 3 = 0\n",
      "63 is not a prime number\n"
     ]
    }
   ],
   "source": [
    "isPrimeOrNot()"
   ]
  },
  {
   "cell_type": "code",
   "execution_count": 87,
   "metadata": {},
   "outputs": [
    {
     "data": {
      "text/plain": [
       "0"
      ]
     },
     "execution_count": 87,
     "metadata": {},
     "output_type": "execute_result"
    }
   ],
   "source": [
    "1000 % 2"
   ]
  },
  {
   "cell_type": "code",
   "execution_count": null,
   "metadata": {},
   "outputs": [],
   "source": []
  }
 ],
 "metadata": {
  "kernelspec": {
   "display_name": "Python 3.9.13 ('base')",
   "language": "python",
   "name": "python3"
  },
  "language_info": {
   "codemirror_mode": {
    "name": "ipython",
    "version": 3
   },
   "file_extension": ".py",
   "mimetype": "text/x-python",
   "name": "python",
   "nbconvert_exporter": "python",
   "pygments_lexer": "ipython3",
   "version": "3.9.13"
  },
  "orig_nbformat": 4,
  "vscode": {
   "interpreter": {
    "hash": "2043299c89c8cd0b4d1a6f5cf4529bd58e6a4e0fe3181a25e0d328c821cdc5c5"
   }
  }
 },
 "nbformat": 4,
 "nbformat_minor": 2
}

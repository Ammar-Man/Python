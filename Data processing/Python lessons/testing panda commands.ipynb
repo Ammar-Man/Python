{
 "cells": [
  {
   "attachments": {},
   "cell_type": "markdown",
   "metadata": {},
   "source": [
    "### Projekt 2 - Steam Sale! , version 1 , by Ammar al-mandawi"
   ]
  },
  {
   "cell_type": "code",
   "execution_count": 5,
   "metadata": {},
   "outputs": [],
   "source": [
    "# import here!\n",
    "import pandas as pd"
   ]
  },
  {
   "cell_type": "code",
   "execution_count": 6,
   "metadata": {},
   "outputs": [],
   "source": [
    "import matplotlib.pyplot as plt\n",
    "%matplotlib inline"
   ]
  },
  {
   "cell_type": "code",
   "execution_count": 49,
   "metadata": {},
   "outputs": [],
   "source": [
    "import math"
   ]
  },
  {
   "cell_type": "code",
   "execution_count": 17,
   "metadata": {},
   "outputs": [],
   "source": [
    "import requests"
   ]
  },
  {
   "cell_type": "code",
   "execution_count": 3,
   "metadata": {},
   "outputs": [],
   "source": [
    "#Bekanta dig med Steams produktsida (specials)HÄR(öppna källkoden, \n",
    "# kolla t.ex vilka css klasser som kunde användas mm.)\n",
    "# linkSteam = https://store.steampowered.com/search/?specials=1&page=1 "
   ]
  },
  {
   "cell_type": "code",
   "execution_count": 9,
   "metadata": {},
   "outputs": [],
   "source": [
    "#  oo_SteamData = pd.read_csv(\"https://store.steampowered.com/search/?specials=1&page=1\")\n"
   ]
  },
  {
   "cell_type": "code",
   "execution_count": 19,
   "metadata": {},
   "outputs": [],
   "source": [
    "res = requests.get(\"https://en.wikipedia.org/wiki/Harvard_University\")"
   ]
  },
  {
   "cell_type": "code",
   "execution_count": 97,
   "metadata": {},
   "outputs": [],
   "source": [
    "resYT = requests.get(\"https://www.youtube.com/watch?v=L58nXsRP_BY&list=RDMMeQlRpFAad0k&index=4\")"
   ]
  },
  {
   "cell_type": "code",
   "execution_count": 5,
   "metadata": {},
   "outputs": [],
   "source": [
    "# type(res) // requests.models.Response\n",
    "# dir(res)\n",
    "# res.text\n",
    "# res.json  // <bound method Response.json of <Response [200]>>"
   ]
  },
  {
   "cell_type": "code",
   "execution_count": 20,
   "metadata": {},
   "outputs": [],
   "source": [
    "from bs4 import BeautifulSoup as bs \n"
   ]
  },
  {
   "cell_type": "code",
   "execution_count": 35,
   "metadata": {},
   "outputs": [],
   "source": [
    "# bs? // BeautifulSoup\n",
    "# type(soup) // bs4.BeautifulSoup \n",
    "# dir(soup) \n",
    "# type(soup.prettify())  // str"
   ]
  },
  {
   "cell_type": "code",
   "execution_count": 21,
   "metadata": {},
   "outputs": [],
   "source": [
    "soup = bs(res.text,'html.parser')"
   ]
  },
  {
   "cell_type": "code",
   "execution_count": 98,
   "metadata": {},
   "outputs": [],
   "source": [
    "soupYT = bs(resYT.text,'html.parser')"
   ]
  },
  {
   "cell_type": "code",
   "execution_count": 24,
   "metadata": {},
   "outputs": [],
   "source": [
    "# print(soup.prettify())"
   ]
  },
  {
   "cell_type": "code",
   "execution_count": 140,
   "metadata": {},
   "outputs": [
    {
     "data": {
      "text/plain": [
       "<title>Harvard University - Wikipedia</title>"
      ]
     },
     "execution_count": 140,
     "metadata": {},
     "output_type": "execute_result"
    }
   ],
   "source": [
    "soup.title\n"
   ]
  },
  {
   "cell_type": "code",
   "execution_count": 142,
   "metadata": {},
   "outputs": [
    {
     "data": {
      "text/plain": [
       "['wikitable', 'sortable', 'collapsible', 'collapsed', 'floatright']"
      ]
     },
     "execution_count": 142,
     "metadata": {},
     "output_type": "execute_result"
    }
   ],
   "source": [
    "soup.findAll(\"table\")[3]\n",
    "soup.findAll(\"table\")[3][\"class\"]\n",
    "# soupYT.findAll(\"link\")"
   ]
  },
  {
   "cell_type": "code",
   "execution_count": 56,
   "metadata": {},
   "outputs": [],
   "source": [
    "# soup.span // <span class=\"mw-page-title-main\">Harvard University</span>\n",
    "# soup.find(\"span\") // <span class=\"mw-page-title-main\">Harvard University</span>\n",
    "# soup.findAll(\"span\") // *<span class\n",
    "# soup.findAll(\"span\")[4]\n",
    "# soup.findAll(\"table\")[4]\n",
    "# for nu in len(soup):\n",
    "#     print(soup.findAll(\"span\")[nu])\n",
    "# soup.table[\"class\"] // ['infobox', 'vcard']"
   ]
  },
  {
   "cell_type": "code",
   "execution_count": 114,
   "metadata": {},
   "outputs": [],
   "source": [
    "soup.findAll(\"table\")[3][\"class\"]\n",
    "table= soup.findAll(\"table\")[3]\n",
    "tableYT= soupYT.findAll(\"link\")"
   ]
  },
  {
   "cell_type": "code",
   "execution_count": 61,
   "metadata": {},
   "outputs": [],
   "source": [
    "# to view html table in notebook\n",
    "from IPython.core.display import HTML as html"
   ]
  },
  {
   "cell_type": "code",
   "execution_count": 143,
   "metadata": {},
   "outputs": [
    {
     "data": {
      "text/html": [
       "<table class=\"wikitable sortable collapsible collapsed floatright\">\n",
       "<tbody><tr>\n",
       "<th colspan=\"4\" style=\"background-color:#A31F36;color:white;box-shadow: inset 2px 2px 0 #2C2A29, inset -2px -2px 0 #2C2A29;\">National Graduate Rankings<sup class=\"reference\" id=\"cite_ref-98\"><a href=\"#cite_note-98\">[98]</a></sup>\n",
       "</th></tr>\n",
       "<tr>\n",
       "<th>Program\n",
       "</th>\n",
       "<th>Ranking\n",
       "</th></tr>\n",
       "<tr>\n",
       "<td>Biological Sciences</td>\n",
       "<td>4\n",
       "</td></tr>\n",
       "<tr>\n",
       "<td>Business</td>\n",
       "<td>6\n",
       "</td></tr>\n",
       "<tr>\n",
       "<td>Chemistry</td>\n",
       "<td>2\n",
       "</td></tr>\n",
       "<tr>\n",
       "<td>Clinical Psychology</td>\n",
       "<td>10\n",
       "</td></tr>\n",
       "<tr>\n",
       "<td>Computer Science</td>\n",
       "<td>16\n",
       "</td></tr>\n",
       "<tr>\n",
       "<td>Earth Sciences</td>\n",
       "<td>8\n",
       "</td></tr>\n",
       "<tr>\n",
       "<td>Economics</td>\n",
       "<td>1\n",
       "</td></tr>\n",
       "<tr>\n",
       "<td>Education</td>\n",
       "<td>1\n",
       "</td></tr>\n",
       "<tr>\n",
       "<td>Engineering</td>\n",
       "<td>22\n",
       "</td></tr>\n",
       "<tr>\n",
       "<td>English</td>\n",
       "<td>8\n",
       "</td></tr>\n",
       "<tr>\n",
       "<td>History</td>\n",
       "<td>4\n",
       "</td></tr>\n",
       "<tr>\n",
       "<td>Law</td>\n",
       "<td>3\n",
       "</td></tr>\n",
       "<tr>\n",
       "<td>Mathematics</td>\n",
       "<td>2\n",
       "</td></tr>\n",
       "<tr>\n",
       "<td>Medicine: Primary Care</td>\n",
       "<td>10\n",
       "</td></tr>\n",
       "<tr>\n",
       "<td>Medicine: Research</td>\n",
       "<td>1\n",
       "</td></tr>\n",
       "<tr>\n",
       "<td>Physics</td>\n",
       "<td>3\n",
       "</td></tr>\n",
       "<tr>\n",
       "<td>Political Science</td>\n",
       "<td>1\n",
       "</td></tr>\n",
       "<tr>\n",
       "<td>Psychology</td>\n",
       "<td>3\n",
       "</td></tr>\n",
       "<tr>\n",
       "<td>Public Affairs</td>\n",
       "<td>3\n",
       "</td></tr>\n",
       "<tr>\n",
       "<td>Public Health</td>\n",
       "<td>2\n",
       "</td></tr>\n",
       "<tr>\n",
       "<td>Sociology</td>\n",
       "<td>1\n",
       "</td></tr></tbody></table>"
      ],
      "text/plain": [
       "<IPython.core.display.HTML object>"
      ]
     },
     "execution_count": 143,
     "metadata": {},
     "output_type": "execute_result"
    }
   ],
   "source": [
    "html(str(table))"
   ]
  },
  {
   "cell_type": "code",
   "execution_count": null,
   "metadata": {},
   "outputs": [],
   "source": [
    "prices = [ ]\n",
    "for elm in soup.find_all(\"li\", class_=\"price-current\"):\n",
    "    if (len(elm.text) != 0):\n",
    "        prices.append(elm.findAll(\"strong\"))\n",
    "# prices\n"
   ]
  },
  {
   "cell_type": "code",
   "execution_count": 144,
   "metadata": {},
   "outputs": [
    {
     "data": {
      "text/plain": [
       "['4\\n',\n",
       " '6\\n',\n",
       " '2\\n',\n",
       " '8\\n',\n",
       " '1\\n',\n",
       " '1\\n',\n",
       " '8\\n',\n",
       " '4\\n',\n",
       " '3\\n',\n",
       " '2\\n',\n",
       " '1\\n',\n",
       " '3\\n',\n",
       " '1\\n',\n",
       " '3\\n',\n",
       " '3\\n',\n",
       " '2\\n',\n",
       " '1\\n']"
      ]
     },
     "execution_count": 144,
     "metadata": {},
     "output_type": "execute_result"
    }
   ],
   "source": [
    "rows = []\n",
    "for row in table.findAll(\"td\"):\n",
    "    rows.append(row)\n",
    "\n",
    "rows = []\n",
    "for row in table.findAll(\"td\"):\n",
    "    if (len(row.text) < 3):\n",
    "        rows.append(row.text.replace(\"\\n\",\"\"))\n",
    "rows\n",
    "\n",
    "prices = [ ]\n",
    "for elm in soup.find_all(\"li\", class_=\"price-current\"):\n",
    "    if (len(elm.text) != 0):\n",
    "        prices.append(elm.findAll(\"strong\"))\n",
    "# prices"
   ]
  },
  {
   "cell_type": "code",
   "execution_count": 125,
   "metadata": {},
   "outputs": [
    {
     "data": {
      "text/html": [
       "['4', '6', '2', '8', '1', '1', '8', '4', '3', '2', '1', '3', '1', '3', '3', '2', '1']"
      ],
      "text/plain": [
       "<IPython.core.display.HTML object>"
      ]
     },
     "execution_count": 125,
     "metadata": {},
     "output_type": "execute_result"
    }
   ],
   "source": [
    "rows\n",
    "html(str(rows))"
   ]
  },
  {
   "cell_type": "code",
   "execution_count": 126,
   "metadata": {},
   "outputs": [
    {
     "name": "stdout",
     "output_type": "stream",
     "text": [
      "['4', '6', '2', '8', '1', '1', '8', '4', '3', '2', '1', '3', '1', '3', '3', '2', '1']\n"
     ]
    },
    {
     "data": {
      "text/html": [
       "['4', '6', '2', '8', '1', '1', '8', '4', '3', '2', '1', '3', '1', '3', '3', '2', '1']"
      ],
      "text/plain": [
       "<IPython.core.display.HTML object>"
      ]
     },
     "execution_count": 126,
     "metadata": {},
     "output_type": "execute_result"
    }
   ],
   "source": [
    "print(rows)\n",
    "html(str(rows))"
   ]
  },
  {
   "cell_type": "code",
   "execution_count": 121,
   "metadata": {},
   "outputs": [
    {
     "data": {
      "text/html": [
       "[<td>4\n",
       "</td>, <td>6\n",
       "</td>, <td>2\n",
       "</td>, <td>10\n",
       "</td>, <td>16\n",
       "</td>, <td>8\n",
       "</td>, <td>1\n",
       "</td>, <td>1\n",
       "</td>, <td>22\n",
       "</td>, <td>8\n",
       "</td>, <td>4\n",
       "</td>, <td>Law</td>, <td>3\n",
       "</td>, <td>2\n",
       "</td>, <td>10\n",
       "</td>, <td>1\n",
       "</td>, <td>3\n",
       "</td>, <td>1\n",
       "</td>, <td>3\n",
       "</td>, <td>3\n",
       "</td>, <td>2\n",
       "</td>, <td>1\n",
       "</td>]"
      ],
      "text/plain": [
       "<IPython.core.display.HTML object>"
      ]
     },
     "execution_count": 121,
     "metadata": {},
     "output_type": "execute_result"
    }
   ],
   "source": [
    "rowsDig = [row for row in table.findAll(\"td\") if (len(row.text) < 4)]\n",
    "html(str(rowsDig))"
   ]
  },
  {
   "cell_type": "code",
   "execution_count": 1,
   "metadata": {},
   "outputs": [
    {
     "data": {
      "text/plain": [
       "bool"
      ]
     },
     "execution_count": 1,
     "metadata": {},
     "output_type": "execute_result"
    }
   ],
   "source": [
    "type(True)"
   ]
  },
  {
   "cell_type": "code",
   "execution_count": 2,
   "metadata": {},
   "outputs": [],
   "source": [
    "import locale"
   ]
  },
  {
   "cell_type": "code",
   "execution_count": 6,
   "metadata": {},
   "outputs": [],
   "source": [
    "# locale?\n",
    "# dir(locale)\n"
   ]
  },
  {
   "cell_type": "code",
   "execution_count": null,
   "metadata": {},
   "outputs": [],
   "source": []
  }
 ],
 "metadata": {
  "kernelspec": {
   "display_name": "base",
   "language": "python",
   "name": "python3"
  },
  "language_info": {
   "codemirror_mode": {
    "name": "ipython",
    "version": 3
   },
   "file_extension": ".py",
   "mimetype": "text/x-python",
   "name": "python",
   "nbconvert_exporter": "python",
   "pygments_lexer": "ipython3",
   "version": "3.9.13 (main, Aug 25 2022, 23:51:50) [MSC v.1916 64 bit (AMD64)]"
  },
  "orig_nbformat": 4,
  "vscode": {
   "interpreter": {
    "hash": "2043299c89c8cd0b4d1a6f5cf4529bd58e6a4e0fe3181a25e0d328c821cdc5c5"
   }
  }
 },
 "nbformat": 4,
 "nbformat_minor": 2
}

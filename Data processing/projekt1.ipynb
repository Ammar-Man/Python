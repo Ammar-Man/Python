{
 "cells": [
  {
   "cell_type": "code",
   "execution_count": 2,
   "metadata": {},
   "outputs": [],
   "source": [
    "import pandas as pd"
   ]
  },
  {
   "cell_type": "code",
   "execution_count": 3,
   "metadata": {},
   "outputs": [],
   "source": [
    "import matplotlib.pyplot as plt\n",
    "%matplotlib inline"
   ]
  },
  {
   "cell_type": "code",
   "execution_count": 13,
   "metadata": {},
   "outputs": [
    {
     "name": "stdout",
     "output_type": "stream",
     "text": [
      "    cars  passings\n",
      "0    BMW         3\n",
      "1  Volvo         7\n",
      "2   Ford         2\n"
     ]
    }
   ],
   "source": [
    "mydataset = {\n",
    "  'cars': [\"BMW\", \"Volvo\", \"Ford\"],\n",
    "  'passings': [3, 7, 2]\n",
    "}\n",
    "\n",
    "myvar = pd.DataFrame(mydataset)\n",
    "\n",
    "print(myvar)"
   ]
  },
  {
   "cell_type": "code",
   "execution_count": 23,
   "metadata": {},
   "outputs": [
    {
     "data": {
      "text/html": [
       "<div>\n",
       "<style scoped>\n",
       "    .dataframe tbody tr th:only-of-type {\n",
       "        vertical-align: middle;\n",
       "    }\n",
       "\n",
       "    .dataframe tbody tr th {\n",
       "        vertical-align: top;\n",
       "    }\n",
       "\n",
       "    .dataframe thead th {\n",
       "        text-align: right;\n",
       "    }\n",
       "</style>\n",
       "<table border=\"1\" class=\"dataframe\">\n",
       "  <thead>\n",
       "    <tr style=\"text-align: right;\">\n",
       "      <th></th>\n",
       "      <th>943 users</th>\n",
       "    </tr>\n",
       "  </thead>\n",
       "  <tbody>\n",
       "    <tr>\n",
       "      <th>0</th>\n",
       "      <td>1682 items</td>\n",
       "    </tr>\n",
       "    <tr>\n",
       "      <th>1</th>\n",
       "      <td>100000 ratings</td>\n",
       "    </tr>\n",
       "  </tbody>\n",
       "</table>\n",
       "</div>"
      ],
      "text/plain": [
       "        943 users\n",
       "0      1682 items\n",
       "1  100000 ratings"
      ]
     },
     "execution_count": 23,
     "metadata": {},
     "output_type": "execute_result"
    }
   ],
   "source": [
    "# ml-100k\n",
    "oo_info = pd.read_csv(\"https://files.grouplens.org/datasets/movielens/ml-100k/u.info\")\n",
    "type(oo_info)\n"
   ]
  },
  {
   "cell_type": "code",
   "execution_count": 14,
   "metadata": {},
   "outputs": [],
   "source": []
  },
  {
   "cell_type": "markdown",
   "metadata": {},
   "source": [
    "### 1. Läs in användardata, ratingdata och filmdata"
   ]
  },
  {
   "cell_type": "code",
   "execution_count": 21,
   "metadata": {},
   "outputs": [
    {
     "data": {
      "text/html": [
       "<div>\n",
       "<style scoped>\n",
       "    .dataframe tbody tr th:only-of-type {\n",
       "        vertical-align: middle;\n",
       "    }\n",
       "\n",
       "    .dataframe tbody tr th {\n",
       "        vertical-align: top;\n",
       "    }\n",
       "\n",
       "    .dataframe thead th {\n",
       "        text-align: right;\n",
       "    }\n",
       "</style>\n",
       "<table border=\"1\" class=\"dataframe\">\n",
       "  <thead>\n",
       "    <tr style=\"text-align: right;\">\n",
       "      <th></th>\n",
       "      <th>movie_id</th>\n",
       "      <th>movie_title</th>\n",
       "      <th>release_date</th>\n",
       "      <th>video_release_date</th>\n",
       "      <th>IMDb_URL</th>\n",
       "      <th>unknown</th>\n",
       "      <th>Action</th>\n",
       "      <th>Adventure</th>\n",
       "      <th>Animation</th>\n",
       "      <th>Children's</th>\n",
       "      <th>...</th>\n",
       "      <th>Fantasy</th>\n",
       "      <th>Film-Noir</th>\n",
       "      <th>Horror</th>\n",
       "      <th>Musical</th>\n",
       "      <th>Mystery</th>\n",
       "      <th>Romance</th>\n",
       "      <th>Sci-Fi</th>\n",
       "      <th>Thriller</th>\n",
       "      <th>War</th>\n",
       "      <th>Western</th>\n",
       "    </tr>\n",
       "  </thead>\n",
       "  <tbody>\n",
       "    <tr>\n",
       "      <th>0</th>\n",
       "      <td>1</td>\n",
       "      <td>Toy Story (1995)</td>\n",
       "      <td>01-Jan-1995</td>\n",
       "      <td>NaN</td>\n",
       "      <td>http://us.imdb.com/M/title-exact?Toy%20Story%2...</td>\n",
       "      <td>0</td>\n",
       "      <td>0</td>\n",
       "      <td>0</td>\n",
       "      <td>1</td>\n",
       "      <td>1</td>\n",
       "      <td>...</td>\n",
       "      <td>0</td>\n",
       "      <td>0</td>\n",
       "      <td>0</td>\n",
       "      <td>0</td>\n",
       "      <td>0</td>\n",
       "      <td>0</td>\n",
       "      <td>0</td>\n",
       "      <td>0</td>\n",
       "      <td>0</td>\n",
       "      <td>0</td>\n",
       "    </tr>\n",
       "    <tr>\n",
       "      <th>1</th>\n",
       "      <td>2</td>\n",
       "      <td>GoldenEye (1995)</td>\n",
       "      <td>01-Jan-1995</td>\n",
       "      <td>NaN</td>\n",
       "      <td>http://us.imdb.com/M/title-exact?GoldenEye%20(...</td>\n",
       "      <td>0</td>\n",
       "      <td>1</td>\n",
       "      <td>1</td>\n",
       "      <td>0</td>\n",
       "      <td>0</td>\n",
       "      <td>...</td>\n",
       "      <td>0</td>\n",
       "      <td>0</td>\n",
       "      <td>0</td>\n",
       "      <td>0</td>\n",
       "      <td>0</td>\n",
       "      <td>0</td>\n",
       "      <td>0</td>\n",
       "      <td>1</td>\n",
       "      <td>0</td>\n",
       "      <td>0</td>\n",
       "    </tr>\n",
       "  </tbody>\n",
       "</table>\n",
       "<p>2 rows × 24 columns</p>\n",
       "</div>"
      ],
      "text/plain": [
       "   movie_id      movie_title  release_date  video_release_date  \\\n",
       "0         1  Toy Story (1995)  01-Jan-1995                 NaN   \n",
       "1         2  GoldenEye (1995)  01-Jan-1995                 NaN   \n",
       "\n",
       "                                           IMDb_URL   unknown  Action   \\\n",
       "0  http://us.imdb.com/M/title-exact?Toy%20Story%2...        0        0   \n",
       "1  http://us.imdb.com/M/title-exact?GoldenEye%20(...        0        1   \n",
       "\n",
       "   Adventure  Animation  Children's  ...  Fantasy  Film-Noir  Horror   \\\n",
       "0          0          1           1  ...        0          0        0   \n",
       "1          1          0           0  ...        0          0        0   \n",
       "\n",
       "   Musical  Mystery  Romance  Sci-Fi  Thriller  War   Western  \n",
       "0        0        0        0       0         0     0        0  \n",
       "1        0        0        0       0         1     0        0  \n",
       "\n",
       "[2 rows x 24 columns]"
      ]
     },
     "execution_count": 21,
     "metadata": {},
     "output_type": "execute_result"
    }
   ],
   "source": [
    "\n",
    "# filmData\n",
    "oo_filmData = pd.read_csv(\"https://files.grouplens.org/datasets/movielens/ml-100k/u.item\",  sep=\"|\", encoding=\"iso-8859-1\",\n",
    "names=[\"movie_id\" ,\"movie_title \", \"release_date\" ,\"video_release_date\",\n",
    "\"IMDb_URL \" , \"unknown\",\"Action \",\"Adventure\",\"Animation\",\n",
    "\"Children's\",\"Comedy\",\" Crime\",\"Documentary \",\"Drama\",\"Fantasy\",\n",
    "\"Film-Noir\",\"Horror \",\"Musical\",\"Mystery\",\"Romance\",\"Sci-Fi\",\"Thriller\",\n",
    "\"War \",\"Western\"])\n",
    "# oo[[\"City\",\"Sport\",\"Athlete\"]]\n",
    "oo_filmData.head(2)\n"
   ]
  },
  {
   "cell_type": "code",
   "execution_count": 107,
   "metadata": {},
   "outputs": [
    {
     "data": {
      "text/html": [
       "<div>\n",
       "<style scoped>\n",
       "    .dataframe tbody tr th:only-of-type {\n",
       "        vertical-align: middle;\n",
       "    }\n",
       "\n",
       "    .dataframe tbody tr th {\n",
       "        vertical-align: top;\n",
       "    }\n",
       "\n",
       "    .dataframe thead th {\n",
       "        text-align: right;\n",
       "    }\n",
       "</style>\n",
       "<table border=\"1\" class=\"dataframe\">\n",
       "  <thead>\n",
       "    <tr style=\"text-align: right;\">\n",
       "      <th></th>\n",
       "      <th>user_id</th>\n",
       "      <th>age</th>\n",
       "      <th>gender</th>\n",
       "      <th>occupation</th>\n",
       "      <th>zip_code</th>\n",
       "    </tr>\n",
       "  </thead>\n",
       "  <tbody>\n",
       "    <tr>\n",
       "      <th>0</th>\n",
       "      <td>1</td>\n",
       "      <td>24</td>\n",
       "      <td>M</td>\n",
       "      <td>technician</td>\n",
       "      <td>85711</td>\n",
       "    </tr>\n",
       "    <tr>\n",
       "      <th>1</th>\n",
       "      <td>2</td>\n",
       "      <td>53</td>\n",
       "      <td>F</td>\n",
       "      <td>other</td>\n",
       "      <td>94043</td>\n",
       "    </tr>\n",
       "  </tbody>\n",
       "</table>\n",
       "</div>"
      ],
      "text/plain": [
       "   user_id  age gender  occupation zip_code\n",
       "0        1   24      M  technician    85711\n",
       "1        2   53      F       other    94043"
      ]
     },
     "execution_count": 107,
     "metadata": {},
     "output_type": "execute_result"
    }
   ],
   "source": [
    "# userData \n",
    "oo_userData = pd.read_csv(\"https://files.grouplens.org/datasets/movielens/ml-100k/u.user\",  sep=\"|\", encoding=\"iso-8859-1\",\n",
    "names=[\"user_id\" ,\"age\", \"gender\" ,\"occupation\",\n",
    "\"zip_code\"])\n",
    "oo_userData.head(2)\n"
   ]
  },
  {
   "cell_type": "code",
   "execution_count": 108,
   "metadata": {},
   "outputs": [
    {
     "name": "stdout",
     "output_type": "stream",
     "text": [
      "          user_id         age\n",
      "count  943.000000  943.000000\n",
      "mean   472.000000   34.051962\n",
      "std    272.364951   12.192740\n",
      "min      1.000000    7.000000\n",
      "25%    236.500000   25.000000\n",
      "50%    472.000000   31.000000\n",
      "75%    707.500000   43.000000\n",
      "max    943.000000   73.000000\n"
     ]
    }
   ],
   "source": [
    "print(oo_userData.describe())"
   ]
  },
  {
   "cell_type": "code",
   "execution_count": 317,
   "metadata": {},
   "outputs": [
    {
     "data": {
      "text/html": [
       "<div>\n",
       "<style scoped>\n",
       "    .dataframe tbody tr th:only-of-type {\n",
       "        vertical-align: middle;\n",
       "    }\n",
       "\n",
       "    .dataframe tbody tr th {\n",
       "        vertical-align: top;\n",
       "    }\n",
       "\n",
       "    .dataframe thead th {\n",
       "        text-align: right;\n",
       "    }\n",
       "</style>\n",
       "<table border=\"1\" class=\"dataframe\">\n",
       "  <thead>\n",
       "    <tr style=\"text-align: right;\">\n",
       "      <th></th>\n",
       "      <th>user_id</th>\n",
       "      <th>item_id</th>\n",
       "      <th>rating</th>\n",
       "      <th>timestamp</th>\n",
       "    </tr>\n",
       "  </thead>\n",
       "  <tbody>\n",
       "    <tr>\n",
       "      <th>0</th>\n",
       "      <td>196</td>\n",
       "      <td>242</td>\n",
       "      <td>3</td>\n",
       "      <td>881250949</td>\n",
       "    </tr>\n",
       "    <tr>\n",
       "      <th>1</th>\n",
       "      <td>186</td>\n",
       "      <td>302</td>\n",
       "      <td>3</td>\n",
       "      <td>891717742</td>\n",
       "    </tr>\n",
       "    <tr>\n",
       "      <th>2</th>\n",
       "      <td>22</td>\n",
       "      <td>377</td>\n",
       "      <td>1</td>\n",
       "      <td>878887116</td>\n",
       "    </tr>\n",
       "    <tr>\n",
       "      <th>3</th>\n",
       "      <td>244</td>\n",
       "      <td>51</td>\n",
       "      <td>2</td>\n",
       "      <td>880606923</td>\n",
       "    </tr>\n",
       "    <tr>\n",
       "      <th>4</th>\n",
       "      <td>166</td>\n",
       "      <td>346</td>\n",
       "      <td>1</td>\n",
       "      <td>886397596</td>\n",
       "    </tr>\n",
       "    <tr>\n",
       "      <th>...</th>\n",
       "      <td>...</td>\n",
       "      <td>...</td>\n",
       "      <td>...</td>\n",
       "      <td>...</td>\n",
       "    </tr>\n",
       "    <tr>\n",
       "      <th>99995</th>\n",
       "      <td>880</td>\n",
       "      <td>476</td>\n",
       "      <td>3</td>\n",
       "      <td>880175444</td>\n",
       "    </tr>\n",
       "    <tr>\n",
       "      <th>99996</th>\n",
       "      <td>716</td>\n",
       "      <td>204</td>\n",
       "      <td>5</td>\n",
       "      <td>879795543</td>\n",
       "    </tr>\n",
       "    <tr>\n",
       "      <th>99997</th>\n",
       "      <td>276</td>\n",
       "      <td>1090</td>\n",
       "      <td>1</td>\n",
       "      <td>874795795</td>\n",
       "    </tr>\n",
       "    <tr>\n",
       "      <th>99998</th>\n",
       "      <td>13</td>\n",
       "      <td>225</td>\n",
       "      <td>2</td>\n",
       "      <td>882399156</td>\n",
       "    </tr>\n",
       "    <tr>\n",
       "      <th>99999</th>\n",
       "      <td>12</td>\n",
       "      <td>203</td>\n",
       "      <td>3</td>\n",
       "      <td>879959583</td>\n",
       "    </tr>\n",
       "  </tbody>\n",
       "</table>\n",
       "<p>100000 rows × 4 columns</p>\n",
       "</div>"
      ],
      "text/plain": [
       "       user_id  item_id  rating  timestamp\n",
       "0          196      242       3  881250949\n",
       "1          186      302       3  891717742\n",
       "2           22      377       1  878887116\n",
       "3          244       51       2  880606923\n",
       "4          166      346       1  886397596\n",
       "...        ...      ...     ...        ...\n",
       "99995      880      476       3  880175444\n",
       "99996      716      204       5  879795543\n",
       "99997      276     1090       1  874795795\n",
       "99998       13      225       2  882399156\n",
       "99999       12      203       3  879959583\n",
       "\n",
       "[100000 rows x 4 columns]"
      ]
     },
     "execution_count": 317,
     "metadata": {},
     "output_type": "execute_result"
    }
   ],
   "source": [
    "# ratingData\n",
    "oo_ratingData = pd.read_csv(\"https://files.grouplens.org/datasets/movielens/ml-100k/u.data\",  sep=\"\\s+\", encoding=\"iso-8859-1\",\n",
    "names=[\"user_id\",\"item_id\",\"rating\",\"timestamp\"])\n",
    "oo_ratingData"
   ]
  },
  {
   "cell_type": "code",
   "execution_count": 11,
   "metadata": {},
   "outputs": [
    {
     "data": {
      "text/plain": [
       "23"
      ]
     },
     "execution_count": 11,
     "metadata": {},
     "output_type": "execute_result"
    }
   ],
   "source": [
    "names=[\"movie_id\" ,\"movie_title \", \"release_date\" ,\"video_release_date\",\n",
    "\"IMDb_URL \" , \"unknown\",\"Action \",\"Adventure\",\"Animation\"\n",
    "\"Children's\",\"Comedy\",\" Crime\",\"Documentary \",\"Drama\",\"Fantasy\",\n",
    "\"Film-Noir\",\"Horror \",\"Musical\",\"Mystery\",\"Romance\",\"Sci-Fi\",\"Thriller\",\n",
    "\"War \",\"Western\"]\n",
    "len(names)"
   ]
  },
  {
   "cell_type": "markdown",
   "metadata": {},
   "source": [
    "# 2. Välj data "
   ]
  },
  {
   "cell_type": "code",
   "execution_count": 111,
   "metadata": {},
   "outputs": [
    {
     "name": "stdout",
     "output_type": "stream",
     "text": [
      "  gender  age  occupation\n",
      "0      M   24  technician\n",
      "1      F   53       other\n",
      "2      M   23      writer\n",
      "3      M   24  technician\n",
      "4      F   33       other\n"
     ]
    }
   ],
   "source": [
    "# Visa endast kolumnerna Kön, Ålder och Yrke av användarna\n",
    "KAY =oo_userData[[\"gender\",\"age\",\"occupation\"]]\n",
    "print(KAY.head())\n",
    "\n",
    "\n"
   ]
  },
  {
   "cell_type": "code",
   "execution_count": 653,
   "metadata": {},
   "outputs": [
    {
     "name": "stdout",
     "output_type": "stream",
     "text": [
      "      user_id  item_id  rating  timestamp\n",
      "24        308        1       4  887736532\n",
      "454       287        1       5  875334088\n",
      "957       148        1       4  877019411\n",
      "971       280        1       4  891700426\n",
      "1324       66        1       3  883601324\n",
      "SRF_one sum:  452 \n",
      "\n",
      "       user_id  item_id  rating  timestamp\n",
      "25741       84        1       2  883452108\n",
      "93639      806        1       4  882385082\n",
      "55726      768        1       5  883835025\n",
      "49529       92        1       4  875810511\n",
      "89079      419        1       4  879435590\n",
      "...        ...      ...     ...        ...\n",
      "75323      863     1678       1  889289570\n",
      "67302      863     1679       3  889289491\n",
      "80394      863     1680       2  889289570\n",
      "92329      896     1681       3  887160722\n",
      "95376      916     1682       3  880845755\n",
      "\n",
      "[100000 rows x 4 columns]\n",
      "SRF_all sum:  100000\n"
     ]
    }
   ],
   "source": [
    "# Sortera ratings enligt film. (Vi vill alltså se alla ratings för en film under varann)\n",
    "\n",
    "SRF_one = oo_ratingData[(oo_ratingData.item_id == 1)]\n",
    "print(SRF.head()) \n",
    "print(\"SRF_one sum: \",len(SRF) ,\"\\n\")\n",
    "\n",
    "SRF_all= oo_ratingData.sort_values(by=[\"item_id\"])\n",
    "print(SRF_all)\n",
    "print(\"SRF_all sum: \",len(SRF_all))\n"
   ]
  },
  {
   "cell_type": "markdown",
   "metadata": {},
   "source": [
    "# 3. Filtrera data\n"
   ]
  },
  {
   "cell_type": "code",
   "execution_count": 113,
   "metadata": {},
   "outputs": [
    {
     "name": "stdout",
     "output_type": "stream",
     "text": [
      "     user_id  age gender  occupation zip_code\n",
      "0          1   24      M  technician    85711\n",
      "3          4   24      M  technician    43537\n",
      "43        44   26      M  technician    46260\n",
      "76        77   30      M  technician    29379\n",
      "142      143   42      M  technician    08832\n"
     ]
    }
   ],
   "source": [
    "# Visa endast användare med ett visst yrke.\n",
    "AMY = oo_userData[(oo_userData.occupation==\"technician\")]\n",
    "print(AMY.head())\n"
   ]
  },
  {
   "cell_type": "code",
   "execution_count": 133,
   "metadata": {},
   "outputs": [
    {
     "name": "stdout",
     "output_type": "stream",
     "text": [
      "    user_id  age gender     occupation zip_code\n",
      "5         6   42      M      executive    98101\n",
      "6         7   57      M  administrator    91344\n",
      "9        10   53      M         lawyer    90703\n",
      "12       13   47      M       educator    29206\n",
      "13       14   45      M      scientist    55106\n"
     ]
    }
   ],
   "source": [
    "#  Visa endast användare som är över 40 och män.\n",
    "# oo[oo.Edition >= 1984 ]\n",
    "AMA = oo_userData[(oo_userData.age > 40 ) & (oo_userData.gender  ==\"M\") ]\n",
    "print(AMA.head())\n"
   ]
  },
  {
   "cell_type": "markdown",
   "metadata": {},
   "source": [
    "# 4.  Utforska data "
   ]
  },
  {
   "cell_type": "code",
   "execution_count": 327,
   "metadata": {},
   "outputs": [
    {
     "name": "stdout",
     "output_type": "stream",
     "text": [
      "Avarge age : 36.31111111111111\n"
     ]
    }
   ],
   "source": [
    "# Visa medelåldern av användarna som är författare.\n",
    "# print(VMAF.age.max(axis=\"index\")) // 60\n",
    "# print(VMAF.age.min(axis=\"index\")) // 18\n",
    " \n",
    "VMAF =  oo_userData[(oo_userData.occupation==\"writer\")]\n",
    "# print(VMAF.head())\n",
    "print(\"Avarge age :\" , VMAF.age.mean(axis=\"index\"))\n"
   ]
  },
  {
   "cell_type": "code",
   "execution_count": 677,
   "metadata": {},
   "outputs": [
    {
     "name": "stdout",
     "output_type": "stream",
     "text": [
      "           rating\n",
      "             mean\n",
      "item_id          \n",
      "1        3.878319\n",
      "2        3.206107\n",
      "3        3.033333\n",
      "4        3.550239\n",
      "5        3.302326\n"
     ]
    }
   ],
   "source": [
    "# Använd den tidigare ratings per film sorteringen för att räkna medelrating per film\n",
    "RFS = oo_ratingData.groupby('item_id').agg({'rating':['mean']})\n",
    "\n",
    "print(RFS.head())\n"
   ]
  },
  {
   "cell_type": "code",
   "execution_count": 676,
   "metadata": {},
   "outputs": [
    {
     "name": "stdout",
     "output_type": "stream",
     "text": [
      "Each film item_id with his total rating sum: \n",
      "item_id\n",
      "1    452\n",
      "2    131\n",
      "3     90\n",
      "4    209\n",
      "5     86\n",
      "dtype: int64\n",
      "\n",
      "The top 10 movies among those with more than 40 ratings: \n",
      "item_id\n",
      "50     583\n",
      "258    509\n",
      "100    508\n",
      "181    507\n",
      "294    485\n",
      "286    481\n",
      "288    478\n",
      "1      452\n",
      "300    431\n",
      "121    429\n",
      "dtype: int64\n"
     ]
    }
   ],
   "source": [
    "# Hitta top 10 filmerna bland de som har fler än 40 ratings\n",
    "\n",
    "Find_sorting= oo_ratingData.groupby(\"item_id\").size()\n",
    "Top_10_sorted =Find_sorting[Find_sorting.values>= 40].sort_values(ascending=False)\n",
    "print(\"Each film item_id with his total rating sum: \")\n",
    "print (Find_sorting.head())\n",
    "print(\"\\nThe top 10 movies among those with more than 40 ratings: \")\n",
    "print(Top_10_sorted.head(10))"
   ]
  },
  {
   "cell_type": "markdown",
   "metadata": {},
   "source": [
    "# 5. Kombinera dataFrames"
   ]
  },
  {
   "cell_type": "code",
   "execution_count": 733,
   "metadata": {},
   "outputs": [
    {
     "name": "stdout",
     "output_type": "stream",
     "text": [
      "Most occupations for men:\n",
      " occupation\n",
      "student       136\n",
      "educator       69\n",
      "other          69\n",
      "engineer       65\n",
      "programmer     60\n",
      "dtype: int64 \n",
      "\n",
      "Most occupations for women:\n",
      " occupation\n",
      "student          60\n",
      "administrator    36\n",
      "other            36\n",
      "librarian        29\n",
      "educator         26\n",
      "dtype: int64\n"
     ]
    }
   ],
   "source": [
    "# - Använd u.user datan för att undersöka \n",
    "KdF_userData_M  = oo_userData[(oo_userData.gender==\"M\")]\n",
    "KdF_userData_F  = oo_userData[(oo_userData.gender==\"F\")]\n",
    "\n",
    "# Find_sorting= oo_ratingData.groupby(\"item_id\").size()\n",
    "KdF_userData_M_Sorting =  KdF_userData_M.groupby(\"occupation\").size()\n",
    "KdF_userData_F_Sorting =  KdF_userData_F.groupby(\"occupation\").size()\n",
    "\n",
    "\n",
    "Top_M_occupation = KdF_userData_M_Sorting[KdF_userData_M_Sorting.values>= 20].sort_values(ascending=False)\n",
    "Top_F_occupation = KdF_userData_F_Sorting[KdF_userData_F_Sorting.values>= 20].sort_values(ascending=False)\n",
    "print(\"Most occupations for men:\\n\",Top_M_occupation.head(),\"\\n\")\n",
    "print(\"Most occupations for women:\\n\",Top_F_occupation.head())\n",
    "\n"
   ]
  },
  {
   "cell_type": "code",
   "execution_count": 732,
   "metadata": {},
   "outputs": [],
   "source": [
    "# - Kombinera u.data med u.item för att  skapa en tabell där man kan se Movie Title ochRating."
   ]
  }
 ],
 "metadata": {
  "kernelspec": {
   "display_name": "Python 3.9.13 ('base')",
   "language": "python",
   "name": "python3"
  },
  "language_info": {
   "codemirror_mode": {
    "name": "ipython",
    "version": 3
   },
   "file_extension": ".py",
   "mimetype": "text/x-python",
   "name": "python",
   "nbconvert_exporter": "python",
   "pygments_lexer": "ipython3",
   "version": "3.9.13"
  },
  "orig_nbformat": 4,
  "vscode": {
   "interpreter": {
    "hash": "2043299c89c8cd0b4d1a6f5cf4529bd58e6a4e0fe3181a25e0d328c821cdc5c5"
   }
  }
 },
 "nbformat": 4,
 "nbformat_minor": 2
}

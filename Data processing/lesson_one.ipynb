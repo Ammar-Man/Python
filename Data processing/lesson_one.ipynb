{
 "cells": [
  {
   "cell_type": "code",
   "execution_count": 22,
   "metadata": {},
   "outputs": [],
   "source": [
    "playerOne = input(\"player 1, what do you pick for hand\")"
   ]
  },
  {
   "cell_type": "code",
   "execution_count": 31,
   "metadata": {},
   "outputs": [],
   "source": [
    "import getpass"
   ]
  },
  {
   "cell_type": "code",
   "execution_count": 23,
   "metadata": {},
   "outputs": [
    {
     "data": {
      "text/plain": [
       "'ston'"
      ]
     },
     "execution_count": 23,
     "metadata": {},
     "output_type": "execute_result"
    }
   ],
   "source": [
    "playerOne"
   ]
  },
  {
   "cell_type": "code",
   "execution_count": 24,
   "metadata": {},
   "outputs": [],
   "source": [
    "playerTwo = input(\"player 1, what do you pick for hand\")"
   ]
  },
  {
   "cell_type": "code",
   "execution_count": 30,
   "metadata": {},
   "outputs": [
    {
     "name": "stdout",
     "output_type": "stream",
     "text": [
      "no one win\n"
     ]
    }
   ],
   "source": [
    "if playerOne == playerTwo: \n",
    "    x=\"equal\"\n",
    "    print(x)\n",
    "else:\n",
    "    x = \"no one win\"\n",
    "    print (x)"
   ]
  },
  {
   "cell_type": "code",
   "execution_count": 34,
   "metadata": {},
   "outputs": [],
   "source": [
    "pswd = getpass.getpass(\"Pasword:\")"
   ]
  },
  {
   "cell_type": "code",
   "execution_count": 35,
   "metadata": {},
   "outputs": [
    {
     "data": {
      "text/plain": [
       "'Stein'"
      ]
     },
     "execution_count": 35,
     "metadata": {},
     "output_type": "execute_result"
    }
   ],
   "source": [
    "pswd"
   ]
  },
  {
   "cell_type": "code",
   "execution_count": 69,
   "metadata": {},
   "outputs": [],
   "source": [
    "def inputTest():\n",
    "    choices =(\"rock\",\"scissors\",\"bag\")\n",
    "    print(\"yours choices in this game can be only (\" + \"rock , scissors and bag )\")\n",
    "    playerOneInput = getpass.getpass(\"Player one input:\")\n",
    "    playerTowInput = getpass.getpass(\"hi you are your hand rock, scissors, bag?\")\n",
    "    # gues input\n",
    "    if playerOneInput in choices:\n",
    "        playerOneInput = playerOneInput\n",
    "    else:\n",
    "         playerOneInput = \"Wrong input!\"\n",
    "\n",
    "    if playerOneInput != \"\" and playerTowInput != \"\":\n",
    "        print(\"your input was p1= \" + playerOneInput + \" p2 =\" + playerTowInput)\n",
    "    \n",
    "\n",
    "    # else:\n",
    "    #     print(\"your input was empty\")"
   ]
  },
  {
   "cell_type": "code",
   "execution_count": 70,
   "metadata": {},
   "outputs": [
    {
     "name": "stdout",
     "output_type": "stream",
     "text": [
      "yours choices in this game can be only (rock , scissors and bag )\n"
     ]
    },
    {
     "data": {
      "text/plain": [
       "'rock'"
      ]
     },
     "execution_count": 70,
     "metadata": {},
     "output_type": "execute_result"
    }
   ],
   "source": [
    "inputTest()"
   ]
  },
  {
   "cell_type": "code",
   "execution_count": 55,
   "metadata": {},
   "outputs": [
    {
     "name": "stdout",
     "output_type": "stream",
     "text": [
      "your input was p1= 55 p2 =55\n"
     ]
    }
   ],
   "source": [
    "inputTest()"
   ]
  },
  {
   "cell_type": "code",
   "execution_count": null,
   "metadata": {},
   "outputs": [],
   "source": []
  }
 ],
 "metadata": {
  "kernelspec": {
   "display_name": "Python 3.9.13 ('base')",
   "language": "python",
   "name": "python3"
  },
  "language_info": {
   "codemirror_mode": {
    "name": "ipython",
    "version": 3
   },
   "file_extension": ".py",
   "mimetype": "text/x-python",
   "name": "python",
   "nbconvert_exporter": "python",
   "pygments_lexer": "ipython3",
   "version": "3.9.13"
  },
  "orig_nbformat": 4,
  "vscode": {
   "interpreter": {
    "hash": "2043299c89c8cd0b4d1a6f5cf4529bd58e6a4e0fe3181a25e0d328c821cdc5c5"
   }
  }
 },
 "nbformat": 4,
 "nbformat_minor": 2
}

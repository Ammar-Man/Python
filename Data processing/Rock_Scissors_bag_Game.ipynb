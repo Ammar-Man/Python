{
 "cells": [
  {
   "cell_type": "code",
   "execution_count": 111,
   "metadata": {},
   "outputs": [],
   "source": [
    "playerOne = input(\"player 1, what do you pick for hand\")"
   ]
  },
  {
   "cell_type": "code",
   "execution_count": 159,
   "metadata": {},
   "outputs": [],
   "source": [
    "import getpass\n",
    "import array"
   ]
  },
  {
   "cell_type": "code",
   "execution_count": 113,
   "metadata": {},
   "outputs": [
    {
     "data": {
      "text/plain": [
       "''"
      ]
     },
     "execution_count": 113,
     "metadata": {},
     "output_type": "execute_result"
    }
   ],
   "source": [
    "playerOne"
   ]
  },
  {
   "cell_type": "code",
   "execution_count": 114,
   "metadata": {},
   "outputs": [],
   "source": [
    "playerTwo = input(\"player 1, what do you pick for hand\")"
   ]
  },
  {
   "cell_type": "code",
   "execution_count": 115,
   "metadata": {},
   "outputs": [
    {
     "name": "stdout",
     "output_type": "stream",
     "text": [
      "equal\n"
     ]
    }
   ],
   "source": [
    "if playerOne == playerTwo: \n",
    "    x=\"equal\"\n",
    "    print(x)\n",
    "else:\n",
    "    x = \"no one win\"\n",
    "    print (x)"
   ]
  },
  {
   "cell_type": "code",
   "execution_count": 214,
   "metadata": {},
   "outputs": [],
   "source": [
    "# pswd = getpass.getpass(\"Pasword:\")\n",
    "# cars = [\"Ford\", \"Volvo\", \"BMW\"]\n",
    "# cars.append(\"Honda\")\n",
    "# print(cars)\n",
    "# cars[0] = \"Toyota\"\n",
    "# x = cars[0]\n",
    "global nameArray\n",
    "nameArray = []\n",
    "\n",
    "\n",
    "def nameSave():\n",
    "    print (len(nameArray)) \n",
    "    # if len(nameArray) >= 2 :\n",
    "    #     return \n",
    "\n",
    "    # if namearray is empty\n",
    "    if not nameArray:\n",
    "        name = input(\"First player name:\")\n",
    "        nameArray.insert(0,name)\n",
    "        arrayName = nameArray[0]\n",
    "        return arrayName \n",
    "    else:\n",
    "        name = input(\"Second player name:\")\n",
    "        nameArray.insert(1,name)\n",
    "        arrayName = nameArray[1]\n",
    "        return arrayName\n",
    "    \n",
    "    "
   ]
  },
  {
   "cell_type": "code",
   "execution_count": 170,
   "metadata": {},
   "outputs": [
    {
     "ename": "IndexError",
     "evalue": "list index out of range",
     "output_type": "error",
     "traceback": [
      "\u001b[1;31m---------------------------------------------------------------------------\u001b[0m",
      "\u001b[1;31mIndexError\u001b[0m                                Traceback (most recent call last)",
      "\u001b[1;32m~\\AppData\\Local\\Temp\\ipykernel_9780\\160650051.py\u001b[0m in \u001b[0;36m<module>\u001b[1;34m\u001b[0m\n\u001b[1;32m----> 1\u001b[1;33m \u001b[1;32mif\u001b[0m \u001b[1;32mnot\u001b[0m \u001b[0mnameArray\u001b[0m\u001b[1;33m[\u001b[0m\u001b[1;36m0\u001b[0m\u001b[1;33m]\u001b[0m\u001b[1;33m:\u001b[0m\u001b[1;33m\u001b[0m\u001b[1;33m\u001b[0m\u001b[0m\n\u001b[0m\u001b[0;32m      2\u001b[0m     \u001b[0mprint\u001b[0m\u001b[1;33m(\u001b[0m\u001b[1;34m\"array list names= \"\u001b[0m \u001b[1;33m+\u001b[0m \u001b[0mnameArray\u001b[0m\u001b[1;33m[\u001b[0m\u001b[1;36m0\u001b[0m\u001b[1;33m]\u001b[0m\u001b[1;33m)\u001b[0m\u001b[1;33m\u001b[0m\u001b[1;33m\u001b[0m\u001b[0m\n",
      "\u001b[1;31mIndexError\u001b[0m: list index out of range"
     ]
    }
   ],
   "source": [
    "if not nameArray[0]:\n",
    "    print(\"array list names= \" + nameArray[0])"
   ]
  },
  {
   "cell_type": "code",
   "execution_count": null,
   "metadata": {},
   "outputs": [],
   "source": []
  },
  {
   "cell_type": "code",
   "execution_count": 205,
   "metadata": {},
   "outputs": [],
   "source": [
    "nameArray.clear()\n",
    "# nameSave()\n",
    "# print(\"array list names= \"+nameArray[0])\n",
    "\n",
    "# nameSave()\n",
    "# nameSave()\n",
    "# nameSave()\n",
    "# for x in nameArray:\n",
    "#     print(x)\n",
    "# nameArray.clear()"
   ]
  },
  {
   "cell_type": "code",
   "execution_count": 209,
   "metadata": {},
   "outputs": [],
   "source": [
    "def inputTestOther(name):\n",
    "    choices =(\"rock\",\"scissors\",\"bag\",\"exit\")\n",
    "    inputChoise = str(getpass.getpass(\"Player \"+name+\" Choises (rock, scissors, bag or exit) :\"))\n",
    "    while True:\n",
    "        if inputChoise in choices:\n",
    "            return  inputChoise\n",
    "        else:\n",
    "            print(inputChoise +\" was wrong inputChoise\")\n",
    "            inputChoise = str(getpass.getpass(\"Player \"+name+\" inputChoise:\"))"
   ]
  },
  {
   "cell_type": "code",
   "execution_count": 233,
   "metadata": {},
   "outputs": [],
   "source": [
    "def startGame():\n",
    "    nameSave()\n",
    "    nameSave()\n",
    "    playerOneName = nameArray[0]\n",
    "    playerTwoName = nameArray[1]\n",
    "    number = 1\n",
    "    # playerOneGolas = 0\n",
    "    # playerTwoGolas = 0\n",
    "    choices =(\"rock\",\"scissors\",\"bag\")\n",
    "    print(\"Yours choices in this game can be only ( rock , scissors and bag) add exit to end the game!\")\n",
    "   \n",
    "    def whoDidWhat():\n",
    "        return str(print(\"Robot choice was \"+ playerTowInput + \" Ammar choice was \"+ playerOneInput))\n",
    "\n",
    "    def PlaVsPal(play1 , play2):\n",
    "        \n",
    "        if play1 ==  play2:\n",
    "            print(\"Equal choices \"+ nameArray[0] +\" and \"+ nameArray[1] +\" was  \"+ play1 )\n",
    "        elif play1 == \"scissors\" and play2 == \"bag\":\n",
    "            print(playerOneName+\" wins !\")\n",
    "            whoDidWhat()\n",
    "        elif play1 == \"bag\" and play2 == \"rock\":\n",
    "            print(playerOneName +\" wins !\")\n",
    "            whoDidWhat()\n",
    "        elif play1 == \"rock\" and play2 == \"scissors\":\n",
    "            print(playerOneName+\" wins !\")\n",
    "            whoDidWhat()\n",
    "        else:\n",
    "            print(playerTwoName+\" wins !\" )\n",
    "            whoDidWhat()\n",
    "    \n",
    "    while True:\n",
    "        number  += 1\n",
    "        playerOneInput = inputTestOther(playerOneName)\n",
    "        if playerOneInput ==\"exit\":\n",
    "            print(playerOneName +\" your choise was: exit \")\n",
    "            nameArray.clear()\n",
    "            break\n",
    "        playerTowInput = inputTestOther(playerTwoName)\n",
    "        if playerTowInput ==\"exit\":\n",
    "            print(playerTwoName+\" your choise was: exit \")\n",
    "            nameArray.clear()\n",
    "            break\n",
    "        PlaVsPal(playerOneInput, playerTowInput)\n",
    "        print(\"Game round number \" + str(number) )\n",
    "        print(\"play agin with choices  ( rock , scissors , bag or exit to end a game ) \")\n"
   ]
  },
  {
   "cell_type": "code",
   "execution_count": 23,
   "metadata": {},
   "outputs": [
    {
     "data": {
      "text/plain": [
       "'bag'"
      ]
     },
     "execution_count": 23,
     "metadata": {},
     "output_type": "execute_result"
    }
   ],
   "source": [
    "inputTestOther()"
   ]
  },
  {
   "cell_type": "code",
   "execution_count": 234,
   "metadata": {},
   "outputs": [
    {
     "name": "stdout",
     "output_type": "stream",
     "text": [
      "0\n",
      "1\n",
      "Yours choices in this game can be only ( rock , scissors and bag) add exit to end the game!\n",
      "Equal choices ammar and bosss was  rock\n",
      "Game round number 2\n",
      "play agin with choices  ( rock , scissors , bag or exit to end a game ) \n",
      "Equal choices ammar and bosss was  rock\n",
      "Game round number 3\n",
      "play agin with choices  ( rock , scissors , bag or exit to end a game ) \n",
      "vag was wrong inputChoise\n",
      "vax was wrong inputChoise\n",
      "Equal choices ammar and bosss was  bag\n",
      "Game round number 4\n",
      "play agin with choices  ( rock , scissors , bag or exit to end a game ) \n",
      "ammar your choise was: exit \n"
     ]
    }
   ],
   "source": [
    "startGame()"
   ]
  },
  {
   "cell_type": "code",
   "execution_count": 66,
   "metadata": {},
   "outputs": [],
   "source": [
    "\n"
   ]
  },
  {
   "cell_type": "code",
   "execution_count": null,
   "metadata": {},
   "outputs": [],
   "source": []
  }
 ],
 "metadata": {
  "kernelspec": {
   "display_name": "Python 3.9.13 ('base')",
   "language": "python",
   "name": "python3"
  },
  "language_info": {
   "codemirror_mode": {
    "name": "ipython",
    "version": 3
   },
   "file_extension": ".py",
   "mimetype": "text/x-python",
   "name": "python",
   "nbconvert_exporter": "python",
   "pygments_lexer": "ipython3",
   "version": "3.9.13"
  },
  "orig_nbformat": 4,
  "vscode": {
   "interpreter": {
    "hash": "2043299c89c8cd0b4d1a6f5cf4529bd58e6a4e0fe3181a25e0d328c821cdc5c5"
   }
  }
 },
 "nbformat": 4,
 "nbformat_minor": 2
}

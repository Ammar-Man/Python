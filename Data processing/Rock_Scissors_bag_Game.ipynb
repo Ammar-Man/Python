{
 "cells": [
  {
   "cell_type": "code",
   "execution_count": 111,
   "metadata": {},
   "outputs": [],
   "source": [
    "playerOne = input(\"player 1, what do you pick for hand\")"
   ]
  },
  {
   "cell_type": "code",
   "execution_count": 11,
   "metadata": {},
   "outputs": [],
   "source": [
    "import getpass"
   ]
  },
  {
   "cell_type": "code",
   "execution_count": 113,
   "metadata": {},
   "outputs": [
    {
     "data": {
      "text/plain": [
       "''"
      ]
     },
     "execution_count": 113,
     "metadata": {},
     "output_type": "execute_result"
    }
   ],
   "source": [
    "playerOne"
   ]
  },
  {
   "cell_type": "code",
   "execution_count": 114,
   "metadata": {},
   "outputs": [],
   "source": [
    "playerTwo = input(\"player 1, what do you pick for hand\")"
   ]
  },
  {
   "cell_type": "code",
   "execution_count": 115,
   "metadata": {},
   "outputs": [
    {
     "name": "stdout",
     "output_type": "stream",
     "text": [
      "equal\n"
     ]
    }
   ],
   "source": [
    "if playerOne == playerTwo: \n",
    "    x=\"equal\"\n",
    "    print(x)\n",
    "else:\n",
    "    x = \"no one win\"\n",
    "    print (x)"
   ]
  },
  {
   "cell_type": "code",
   "execution_count": 116,
   "metadata": {},
   "outputs": [],
   "source": [
    "pswd = getpass.getpass(\"Pasword:\")"
   ]
  },
  {
   "cell_type": "code",
   "execution_count": 30,
   "metadata": {},
   "outputs": [],
   "source": [
    "def inputTestOther(name):\n",
    "    choices =(\"rock\",\"scissors\",\"bag\")\n",
    "    input = str(getpass.getpass(\"Player \"+name+\" input:\"))\n",
    "    # gues input\n",
    "    while True:\n",
    "        if input in choices:\n",
    "            return  input\n",
    "        elif input == \"exit\":\n",
    "            print(\"your choise was: exit \")\n",
    "            break\n",
    "        else:\n",
    "            print(input +\" was wrong input\")\n",
    "            input = str(getpass.getpass(\"Player \"+name+\" input:\"))"
   ]
  },
  {
   "cell_type": "code",
   "execution_count": 39,
   "metadata": {},
   "outputs": [],
   "source": [
    "def startGame():\n",
    "    choices =(\"rock\",\"scissors\",\"bag\")\n",
    "    print(\"Yours choices in this game can be only ( rock , scissors and bag ) and add exit to end the game!\")\n",
    "    playerOneInput = inputTestOther(\"Ammar\")\n",
    "    playerTowInput = inputTestOther(\"Robot\")\n",
    "    def whoDidWhat():\n",
    "        return str(print(\"Robot choice was \"+ playerTowInput + \" Ammar choice was \"+ playerOneInput))\n",
    "    # gues input\n",
    "    if playerOneInput ==  playerTowInput:\n",
    "        print(\"Equal choices Ammar and Robot was \"+ playerOneInput )\n",
    "    # Player One wins options!\n",
    "    elif playerOneInput == \"scissors\" and playerTowInput == \"bag\":\n",
    "        print(\"Ammar wins !\")\n",
    "        whoDidWhat()\n",
    "    elif playerOneInput == \"bag\" and playerTowInput == \"rock\":\n",
    "        print(\"Ammar wins !\")\n",
    "        whoDidWhat()\n",
    "    elif playerOneInput == \"rock\" and playerTowInput == \"scissors\":\n",
    "        print(\"Ammar wins !\")\n",
    "        whoDidWhat()\n",
    "    else:\n",
    "        print(\"Robot wins !\" )\n",
    "        whoDidWhat()"
   ]
  },
  {
   "cell_type": "code",
   "execution_count": 40,
   "metadata": {},
   "outputs": [
    {
     "name": "stdout",
     "output_type": "stream",
     "text": [
      "Yours choices in this game can be only ( rock , scissors and bag ) and add exit to end the game!\n",
      "Robot choice was bag Ammar choice was rock\n"
     ]
    },
    {
     "ename": "TypeError",
     "evalue": "can only concatenate str (not \"NoneType\") to str",
     "output_type": "error",
     "traceback": [
      "\u001b[1;31m---------------------------------------------------------------------------\u001b[0m",
      "\u001b[1;31mTypeError\u001b[0m                                 Traceback (most recent call last)",
      "\u001b[1;32m~\\AppData\\Local\\Temp\\ipykernel_17320\\3372613818.py\u001b[0m in \u001b[0;36m<module>\u001b[1;34m\u001b[0m\n\u001b[1;32m----> 1\u001b[1;33m \u001b[0mstartGame\u001b[0m\u001b[1;33m(\u001b[0m\u001b[1;33m)\u001b[0m\u001b[1;33m\u001b[0m\u001b[1;33m\u001b[0m\u001b[0m\n\u001b[0m",
      "\u001b[1;32m~\\AppData\\Local\\Temp\\ipykernel_17320\\2378137039.py\u001b[0m in \u001b[0;36mstartGame\u001b[1;34m()\u001b[0m\n\u001b[0;32m     17\u001b[0m         \u001b[0mprint\u001b[0m\u001b[1;33m(\u001b[0m\u001b[1;34m\"Ammar wins !\"\u001b[0m \u001b[1;33m+\u001b[0m \u001b[0mwhoDidWhat\u001b[0m\u001b[1;33m(\u001b[0m\u001b[1;33m)\u001b[0m\u001b[1;33m)\u001b[0m\u001b[1;33m\u001b[0m\u001b[1;33m\u001b[0m\u001b[0m\n\u001b[0;32m     18\u001b[0m     \u001b[1;32melse\u001b[0m\u001b[1;33m:\u001b[0m\u001b[1;33m\u001b[0m\u001b[1;33m\u001b[0m\u001b[0m\n\u001b[1;32m---> 19\u001b[1;33m         \u001b[0mprint\u001b[0m\u001b[1;33m(\u001b[0m\u001b[1;34m\"Robot wins !\"\u001b[0m \u001b[1;33m+\u001b[0m \u001b[0mwhoDidWhat\u001b[0m\u001b[1;33m(\u001b[0m\u001b[1;33m)\u001b[0m\u001b[1;33m)\u001b[0m\u001b[1;33m\u001b[0m\u001b[1;33m\u001b[0m\u001b[0m\n\u001b[0m",
      "\u001b[1;31mTypeError\u001b[0m: can only concatenate str (not \"NoneType\") to str"
     ]
    }
   ],
   "source": [
    "startGame()"
   ]
  },
  {
   "cell_type": "code",
   "execution_count": 17,
   "metadata": {},
   "outputs": [
    {
     "name": "stdout",
     "output_type": "stream",
     "text": [
      "asdfadsf was wrong input\n"
     ]
    },
    {
     "data": {
      "text/plain": [
       "'rock'"
      ]
     },
     "execution_count": 17,
     "metadata": {},
     "output_type": "execute_result"
    }
   ],
   "source": [
    "inputTestOther(\"ammar\")"
   ]
  }
 ],
 "metadata": {
  "kernelspec": {
   "display_name": "Python 3.9.13 ('base')",
   "language": "python",
   "name": "python3"
  },
  "language_info": {
   "codemirror_mode": {
    "name": "ipython",
    "version": 3
   },
   "file_extension": ".py",
   "mimetype": "text/x-python",
   "name": "python",
   "nbconvert_exporter": "python",
   "pygments_lexer": "ipython3",
   "version": "3.9.13"
  },
  "orig_nbformat": 4,
  "vscode": {
   "interpreter": {
    "hash": "2043299c89c8cd0b4d1a6f5cf4529bd58e6a4e0fe3181a25e0d328c821cdc5c5"
   }
  }
 },
 "nbformat": 4,
 "nbformat_minor": 2
}

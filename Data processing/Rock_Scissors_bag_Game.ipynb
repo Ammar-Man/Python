{
 "cells": [
  {
   "cell_type": "code",
   "execution_count": 111,
   "metadata": {},
   "outputs": [],
   "source": [
    "playerOne = input(\"player 1, what do you pick for hand\")"
   ]
  },
  {
   "cell_type": "code",
   "execution_count": 11,
   "metadata": {},
   "outputs": [],
   "source": [
    "import getpass"
   ]
  },
  {
   "cell_type": "code",
   "execution_count": 113,
   "metadata": {},
   "outputs": [
    {
     "data": {
      "text/plain": [
       "''"
      ]
     },
     "execution_count": 113,
     "metadata": {},
     "output_type": "execute_result"
    }
   ],
   "source": [
    "playerOne"
   ]
  },
  {
   "cell_type": "code",
   "execution_count": 114,
   "metadata": {},
   "outputs": [],
   "source": [
    "playerTwo = input(\"player 1, what do you pick for hand\")"
   ]
  },
  {
   "cell_type": "code",
   "execution_count": 115,
   "metadata": {},
   "outputs": [
    {
     "name": "stdout",
     "output_type": "stream",
     "text": [
      "equal\n"
     ]
    }
   ],
   "source": [
    "if playerOne == playerTwo: \n",
    "    x=\"equal\"\n",
    "    print(x)\n",
    "else:\n",
    "    x = \"no one win\"\n",
    "    print (x)"
   ]
  },
  {
   "cell_type": "code",
   "execution_count": 116,
   "metadata": {},
   "outputs": [],
   "source": [
    "pswd = getpass.getpass(\"Pasword:\")"
   ]
  },
  {
   "cell_type": "code",
   "execution_count": 92,
   "metadata": {},
   "outputs": [],
   "source": [
    "def inputTestOther(name):\n",
    "    choices =(\"rock\",\"scissors\",\"bag\",\"exit\")\n",
    "    input = str(getpass.getpass(\"Player \"+name+\" input:\"))\n",
    "    # gues input\n",
    "    while True:\n",
    "        if input in choices:\n",
    "            return  input\n",
    "        else:\n",
    "            print(input +\" was wrong input\")\n",
    "            input = str(getpass.getpass(\"Player \"+name+\" input:\"))"
   ]
  },
  {
   "cell_type": "code",
   "execution_count": 97,
   "metadata": {},
   "outputs": [],
   "source": [
    "def startGame():\n",
    "    choices =(\"rock\",\"scissors\",\"bag\")\n",
    "    print(\"Yours choices in this game can be only ( rock , scissors and bag ) and add exit to end the game!\")\n",
    "    \n",
    "    def whoDidWhat():\n",
    "        return str(print(\"Robot choice was \"+ playerTowInput + \" Ammar choice was \"+ playerOneInput))\n",
    "    def Pla1vsPaly2(play1 , play2):\n",
    "        if play1 ==  play2:\n",
    "            print(\"Equal choices Ammar and Robot was \" )\n",
    "            play1 \n",
    "        # Player One wins options!\n",
    "        elif play1 == \"scissors\" and play2 == \"bag\":\n",
    "            print(\"Ammar wins !\")\n",
    "            whoDidWhat()\n",
    "        elif play1 == \"bag\" and play2 == \"rock\":\n",
    "            print(\"Ammar wins !\")\n",
    "            whoDidWhat()\n",
    "        elif play1 == \"rock\" and play2 == \"scissors\":\n",
    "            print(\"Ammar wins !\")\n",
    "            whoDidWhat()\n",
    "        else:\n",
    "            print(\"Robot wins !\" )\n",
    "            whoDidWhat()\n",
    "    \n",
    "    while True:\n",
    "        playerOneInput = inputTestOther(\"Ammar\")\n",
    "        if playerOneInput ==\"exit\":\n",
    "            print(\"Ammar your choise was: exit \")\n",
    "            break\n",
    "        playerTowInput = inputTestOther(\"Robot\")\n",
    "        if playerTowInput ==\"exit\":\n",
    "            print(\"Robot your choise was: exit \")\n",
    "            break\n",
    "        \n",
    "        Pla1vsPaly2(playerOneInput, playerTowInput)\n",
    "        print(\"type in exit to end a game otherwise will continue\")\n",
    "        # break\n"
   ]
  },
  {
   "cell_type": "code",
   "execution_count": 98,
   "metadata": {},
   "outputs": [
    {
     "name": "stdout",
     "output_type": "stream",
     "text": [
      "Yours choices in this game can be only ( rock , scissors and bag ) and add exit to end the game!\n",
      "Ammar wins !\n",
      "Robot choice was rock Ammar choice was bag\n",
      "type in exit to end a game otherwise will continue\n",
      "Ammar your choise was: exit \n"
     ]
    }
   ],
   "source": [
    "startGame()"
   ]
  }
 ],
 "metadata": {
  "kernelspec": {
   "display_name": "Python 3.9.13 ('base')",
   "language": "python",
   "name": "python3"
  },
  "language_info": {
   "codemirror_mode": {
    "name": "ipython",
    "version": 3
   },
   "file_extension": ".py",
   "mimetype": "text/x-python",
   "name": "python",
   "nbconvert_exporter": "python",
   "pygments_lexer": "ipython3",
   "version": "3.9.13"
  },
  "orig_nbformat": 4,
  "vscode": {
   "interpreter": {
    "hash": "2043299c89c8cd0b4d1a6f5cf4529bd58e6a4e0fe3181a25e0d328c821cdc5c5"
   }
  }
 },
 "nbformat": 4,
 "nbformat_minor": 2
}

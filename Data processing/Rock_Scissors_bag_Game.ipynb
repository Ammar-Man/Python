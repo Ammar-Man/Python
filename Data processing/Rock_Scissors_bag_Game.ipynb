{
 "cells": [
  {
   "cell_type": "code",
   "execution_count": 159,
   "metadata": {},
   "outputs": [],
   "source": [
    "import getpass\n",
    "import array"
   ]
  },
  {
   "cell_type": "code",
   "execution_count": 240,
   "metadata": {},
   "outputs": [],
   "source": [
    "global nameArray\n",
    "nameArray = []\n",
    "\n",
    "def nameSave():\n",
    "    # with this len max input 2, and more not allowed \n",
    "    if len(nameArray) >= 2 :\n",
    "        return \n",
    "\n",
    "    # if namearray is empty\n",
    "    if not nameArray:\n",
    "        name = input(\"First player name:\")\n",
    "        nameArray.insert(0,name)\n",
    "        arrayName = nameArray[0]\n",
    "        return arrayName \n",
    "    else:\n",
    "        name = input(\"Second player name:\")\n",
    "        nameArray.insert(1,name)\n",
    "        arrayName = nameArray[1]\n",
    "        return arrayName"
   ]
  },
  {
   "cell_type": "code",
   "execution_count": 241,
   "metadata": {},
   "outputs": [
    {
     "name": "stdout",
     "output_type": "stream",
     "text": [
      "hello\n",
      "boss\n"
     ]
    }
   ],
   "source": [
    "# to test the funcktion is working well\n",
    "#nameArray.clear()\n",
    "nameSave()\n",
    "nameSave()\n",
    "nameSave()\n",
    "nameSave()\n",
    "# print(\"array list names= \"+nameArray[0])\n",
    "\n",
    "# nameSave()\n",
    "# nameSave()\n",
    "# nameSave()\n",
    "for x in nameArray:\n",
    "    print(x)\n",
    "nameArray.clear()"
   ]
  },
  {
   "cell_type": "code",
   "execution_count": 262,
   "metadata": {},
   "outputs": [],
   "source": [
    "def inputTest(name, nu):\n",
    "    choices =(\"rock\",\"scissors\",\"bag\",\"exit\")\n",
    "    inputChoise = str(getpass.getpass(\"Game rund \"+str(nu)+\" \\n Player \"+name+\" Choises (rock, scissors, bag or exit) :\"))\n",
    "    while True:\n",
    "        if inputChoise in choices:\n",
    "            return  inputChoise\n",
    "        else:\n",
    "            print(inputChoise +\" was wrong inputChoise\")\n",
    "            inputChoise = str(getpass.getpass(\"Player \"+name+\" inputChoise:\"))"
   ]
  },
  {
   "cell_type": "code",
   "execution_count": 261,
   "metadata": {},
   "outputs": [],
   "source": [
    "def startGame():\n",
    "    nameSave()\n",
    "    nameSave()\n",
    "    playerOneName = nameArray[0]\n",
    "    playerTwoName = nameArray[1]\n",
    "    number = 1\n",
    "    # playerOneGolas = 0\n",
    "    # playerTwoGolas = 0\n",
    "    choices =(\"rock\",\"scissors\",\"bag\")\n",
    "    print(\"Yours choices in this game can be only ( rock , scissors and bag) add exit to end the game!\")\n",
    "   \n",
    "    def whoDidWhat():\n",
    "        return str(print(\"Robot choice was \"+ playerTowInput + \" Ammar choice was \"+ playerOneInput))\n",
    "\n",
    "    def PlaVsPal(play1 , play2):\n",
    "        \n",
    "        if play1 ==  play2:\n",
    "            print(\"Equal choices \"+ nameArray[0] +\" and \"+ nameArray[1] +\" was  \"+ play1 )\n",
    "        elif play1 == \"scissors\" and play2 == \"bag\":\n",
    "            print(playerOneName+\" wins !\")\n",
    "            whoDidWhat()\n",
    "        elif play1 == \"bag\" and play2 == \"rock\":\n",
    "            print(playerOneName +\" wins !\")\n",
    "            whoDidWhat()\n",
    "        elif play1 == \"rock\" and play2 == \"scissors\":\n",
    "            print(playerOneName+\" wins !\")\n",
    "            whoDidWhat()\n",
    "        else:\n",
    "            print(playerTwoName+\" wins !\" )\n",
    "            whoDidWhat()\n",
    "    \n",
    "    while True:\n",
    "        \n",
    "        playerOneInput = inputTest(playerOneName, number)\n",
    "        if playerOneInput ==\"exit\":\n",
    "            print(playerOneName +\" your choise was: exit \")\n",
    "            nameArray.clear()\n",
    "            break\n",
    "        playerTowInput = inputTest(playerTwoName, number)\n",
    "        if playerTowInput ==\"exit\":\n",
    "            print(playerTwoName+\" your choise was: exit \")\n",
    "            nameArray.clear()\n",
    "            break\n",
    "        PlaVsPal(playerOneInput, playerTowInput)\n",
    "        number  += 1\n",
    "        print(\"Game round: \" + str(number) )\n",
    "        print(\"play agin with choices  ( rock , scissors , bag or exit to end a game ) \")\n"
   ]
  },
  {
   "cell_type": "code",
   "execution_count": 258,
   "metadata": {},
   "outputs": [
    {
     "name": "stdout",
     "output_type": "stream",
     "text": [
      "boss was wrong inputChoise\n",
      "boss was wrong inputChoise\n",
      "eixt was wrong inputChoise\n"
     ]
    },
    {
     "data": {
      "text/plain": [
       "'exit'"
      ]
     },
     "execution_count": 258,
     "metadata": {},
     "output_type": "execute_result"
    }
   ],
   "source": [
    "# to test the funcktion is working well\n",
    "inputTest(\"boss\",1)"
   ]
  },
  {
   "cell_type": "code",
   "execution_count": 265,
   "metadata": {},
   "outputs": [
    {
     "name": "stdout",
     "output_type": "stream",
     "text": [
      "Yours choices in this game can be only ( rock , scissors and bag) add exit to end the game!\n",
      "boss wins !\n",
      "Robot choice was bag Ammar choice was rock\n",
      "Game round: 2\n",
      "play agin with choices  ( rock , scissors , bag or exit to end a game ) \n",
      "ammar your choise was: exit \n"
     ]
    }
   ],
   "source": [
    "# to start the game!\n",
    "startGame()"
   ]
  },
  {
   "cell_type": "code",
   "execution_count": 66,
   "metadata": {},
   "outputs": [],
   "source": [
    "\n"
   ]
  },
  {
   "cell_type": "code",
   "execution_count": null,
   "metadata": {},
   "outputs": [],
   "source": []
  }
 ],
 "metadata": {
  "kernelspec": {
   "display_name": "Python 3.9.13 ('base')",
   "language": "python",
   "name": "python3"
  },
  "language_info": {
   "codemirror_mode": {
    "name": "ipython",
    "version": 3
   },
   "file_extension": ".py",
   "mimetype": "text/x-python",
   "name": "python",
   "nbconvert_exporter": "python",
   "pygments_lexer": "ipython3",
   "version": "3.9.13"
  },
  "orig_nbformat": 4,
  "vscode": {
   "interpreter": {
    "hash": "2043299c89c8cd0b4d1a6f5cf4529bd58e6a4e0fe3181a25e0d328c821cdc5c5"
   }
  }
 },
 "nbformat": 4,
 "nbformat_minor": 2
}
